{
  "cells": [
    {
      "cell_type": "markdown",
      "metadata": {
        "id": "view-in-github",
        "colab_type": "text"
      },
      "source": [
        "<a href=\"https://colab.research.google.com/github/YkBastidas/ML_proyect/blob/main/Notebook/who_notebook.ipynb\" target=\"_parent\"><img src=\"https://colab.research.google.com/assets/colab-badge.svg\" alt=\"Open In Colab\"/></a>"
      ]
    },
    {
      "cell_type": "markdown",
      "metadata": {
        "id": "PEU3_fZWSNcL"
      },
      "source": [
        "# Setup"
      ]
    },
    {
      "cell_type": "code",
      "execution_count": 286,
      "metadata": {
        "id": "1OuhsKC6SNcO"
      },
      "outputs": [],
      "source": [
        "import pandas as pd\n",
        "import matplotlib.pyplot as plt\n",
        "import seaborn as sns\n"
      ]
    },
    {
      "cell_type": "code",
      "execution_count": 287,
      "metadata": {
        "id": "5LRAaBNLSNcP"
      },
      "outputs": [],
      "source": [
        "data = pd.read_csv('./who.csv')"
      ]
    },
    {
      "cell_type": "code",
      "execution_count": 288,
      "metadata": {
        "colab": {
          "base_uri": "https://localhost:8080/",
          "height": 206
        },
        "id": "67BMpJkZSNcQ",
        "outputId": "06f646e9-0854-4a66-dc8e-0e7265f67d08"
      },
      "outputs": [
        {
          "output_type": "execute_result",
          "data": {
            "text/plain": [
              "      id  gender   age  hypertension  heart_disease ever_married  \\\n",
              "0   9046    Male  67.0             0              1          Yes   \n",
              "1  51676  Female  61.0             0              0          Yes   \n",
              "2  31112    Male  80.0             0              1          Yes   \n",
              "3  60182  Female  49.0             0              0          Yes   \n",
              "4   1665  Female  79.0             1              0          Yes   \n",
              "\n",
              "       work_type Residence_type  avg_glucose_level   bmi   smoking_status  \\\n",
              "0        Private          Urban             228.69  36.6  formerly smoked   \n",
              "1  Self-employed          Rural             202.21   NaN     never smoked   \n",
              "2        Private          Rural             105.92  32.5     never smoked   \n",
              "3        Private          Urban             171.23  34.4           smokes   \n",
              "4  Self-employed          Rural             174.12  24.0     never smoked   \n",
              "\n",
              "   stroke  \n",
              "0       1  \n",
              "1       1  \n",
              "2       1  \n",
              "3       1  \n",
              "4       1  "
            ],
            "text/html": [
              "\n",
              "  <div id=\"df-4ab4e8f2-fc3e-4d82-8265-f8f2ed50f124\">\n",
              "    <div class=\"colab-df-container\">\n",
              "      <div>\n",
              "<style scoped>\n",
              "    .dataframe tbody tr th:only-of-type {\n",
              "        vertical-align: middle;\n",
              "    }\n",
              "\n",
              "    .dataframe tbody tr th {\n",
              "        vertical-align: top;\n",
              "    }\n",
              "\n",
              "    .dataframe thead th {\n",
              "        text-align: right;\n",
              "    }\n",
              "</style>\n",
              "<table border=\"1\" class=\"dataframe\">\n",
              "  <thead>\n",
              "    <tr style=\"text-align: right;\">\n",
              "      <th></th>\n",
              "      <th>id</th>\n",
              "      <th>gender</th>\n",
              "      <th>age</th>\n",
              "      <th>hypertension</th>\n",
              "      <th>heart_disease</th>\n",
              "      <th>ever_married</th>\n",
              "      <th>work_type</th>\n",
              "      <th>Residence_type</th>\n",
              "      <th>avg_glucose_level</th>\n",
              "      <th>bmi</th>\n",
              "      <th>smoking_status</th>\n",
              "      <th>stroke</th>\n",
              "    </tr>\n",
              "  </thead>\n",
              "  <tbody>\n",
              "    <tr>\n",
              "      <th>0</th>\n",
              "      <td>9046</td>\n",
              "      <td>Male</td>\n",
              "      <td>67.0</td>\n",
              "      <td>0</td>\n",
              "      <td>1</td>\n",
              "      <td>Yes</td>\n",
              "      <td>Private</td>\n",
              "      <td>Urban</td>\n",
              "      <td>228.69</td>\n",
              "      <td>36.6</td>\n",
              "      <td>formerly smoked</td>\n",
              "      <td>1</td>\n",
              "    </tr>\n",
              "    <tr>\n",
              "      <th>1</th>\n",
              "      <td>51676</td>\n",
              "      <td>Female</td>\n",
              "      <td>61.0</td>\n",
              "      <td>0</td>\n",
              "      <td>0</td>\n",
              "      <td>Yes</td>\n",
              "      <td>Self-employed</td>\n",
              "      <td>Rural</td>\n",
              "      <td>202.21</td>\n",
              "      <td>NaN</td>\n",
              "      <td>never smoked</td>\n",
              "      <td>1</td>\n",
              "    </tr>\n",
              "    <tr>\n",
              "      <th>2</th>\n",
              "      <td>31112</td>\n",
              "      <td>Male</td>\n",
              "      <td>80.0</td>\n",
              "      <td>0</td>\n",
              "      <td>1</td>\n",
              "      <td>Yes</td>\n",
              "      <td>Private</td>\n",
              "      <td>Rural</td>\n",
              "      <td>105.92</td>\n",
              "      <td>32.5</td>\n",
              "      <td>never smoked</td>\n",
              "      <td>1</td>\n",
              "    </tr>\n",
              "    <tr>\n",
              "      <th>3</th>\n",
              "      <td>60182</td>\n",
              "      <td>Female</td>\n",
              "      <td>49.0</td>\n",
              "      <td>0</td>\n",
              "      <td>0</td>\n",
              "      <td>Yes</td>\n",
              "      <td>Private</td>\n",
              "      <td>Urban</td>\n",
              "      <td>171.23</td>\n",
              "      <td>34.4</td>\n",
              "      <td>smokes</td>\n",
              "      <td>1</td>\n",
              "    </tr>\n",
              "    <tr>\n",
              "      <th>4</th>\n",
              "      <td>1665</td>\n",
              "      <td>Female</td>\n",
              "      <td>79.0</td>\n",
              "      <td>1</td>\n",
              "      <td>0</td>\n",
              "      <td>Yes</td>\n",
              "      <td>Self-employed</td>\n",
              "      <td>Rural</td>\n",
              "      <td>174.12</td>\n",
              "      <td>24.0</td>\n",
              "      <td>never smoked</td>\n",
              "      <td>1</td>\n",
              "    </tr>\n",
              "  </tbody>\n",
              "</table>\n",
              "</div>\n",
              "      <button class=\"colab-df-convert\" onclick=\"convertToInteractive('df-4ab4e8f2-fc3e-4d82-8265-f8f2ed50f124')\"\n",
              "              title=\"Convert this dataframe to an interactive table.\"\n",
              "              style=\"display:none;\">\n",
              "        \n",
              "  <svg xmlns=\"http://www.w3.org/2000/svg\" height=\"24px\"viewBox=\"0 0 24 24\"\n",
              "       width=\"24px\">\n",
              "    <path d=\"M0 0h24v24H0V0z\" fill=\"none\"/>\n",
              "    <path d=\"M18.56 5.44l.94 2.06.94-2.06 2.06-.94-2.06-.94-.94-2.06-.94 2.06-2.06.94zm-11 1L8.5 8.5l.94-2.06 2.06-.94-2.06-.94L8.5 2.5l-.94 2.06-2.06.94zm10 10l.94 2.06.94-2.06 2.06-.94-2.06-.94-.94-2.06-.94 2.06-2.06.94z\"/><path d=\"M17.41 7.96l-1.37-1.37c-.4-.4-.92-.59-1.43-.59-.52 0-1.04.2-1.43.59L10.3 9.45l-7.72 7.72c-.78.78-.78 2.05 0 2.83L4 21.41c.39.39.9.59 1.41.59.51 0 1.02-.2 1.41-.59l7.78-7.78 2.81-2.81c.8-.78.8-2.07 0-2.86zM5.41 20L4 18.59l7.72-7.72 1.47 1.35L5.41 20z\"/>\n",
              "  </svg>\n",
              "      </button>\n",
              "      \n",
              "  <style>\n",
              "    .colab-df-container {\n",
              "      display:flex;\n",
              "      flex-wrap:wrap;\n",
              "      gap: 12px;\n",
              "    }\n",
              "\n",
              "    .colab-df-convert {\n",
              "      background-color: #E8F0FE;\n",
              "      border: none;\n",
              "      border-radius: 50%;\n",
              "      cursor: pointer;\n",
              "      display: none;\n",
              "      fill: #1967D2;\n",
              "      height: 32px;\n",
              "      padding: 0 0 0 0;\n",
              "      width: 32px;\n",
              "    }\n",
              "\n",
              "    .colab-df-convert:hover {\n",
              "      background-color: #E2EBFA;\n",
              "      box-shadow: 0px 1px 2px rgba(60, 64, 67, 0.3), 0px 1px 3px 1px rgba(60, 64, 67, 0.15);\n",
              "      fill: #174EA6;\n",
              "    }\n",
              "\n",
              "    [theme=dark] .colab-df-convert {\n",
              "      background-color: #3B4455;\n",
              "      fill: #D2E3FC;\n",
              "    }\n",
              "\n",
              "    [theme=dark] .colab-df-convert:hover {\n",
              "      background-color: #434B5C;\n",
              "      box-shadow: 0px 1px 3px 1px rgba(0, 0, 0, 0.15);\n",
              "      filter: drop-shadow(0px 1px 2px rgba(0, 0, 0, 0.3));\n",
              "      fill: #FFFFFF;\n",
              "    }\n",
              "  </style>\n",
              "\n",
              "      <script>\n",
              "        const buttonEl =\n",
              "          document.querySelector('#df-4ab4e8f2-fc3e-4d82-8265-f8f2ed50f124 button.colab-df-convert');\n",
              "        buttonEl.style.display =\n",
              "          google.colab.kernel.accessAllowed ? 'block' : 'none';\n",
              "\n",
              "        async function convertToInteractive(key) {\n",
              "          const element = document.querySelector('#df-4ab4e8f2-fc3e-4d82-8265-f8f2ed50f124');\n",
              "          const dataTable =\n",
              "            await google.colab.kernel.invokeFunction('convertToInteractive',\n",
              "                                                     [key], {});\n",
              "          if (!dataTable) return;\n",
              "\n",
              "          const docLinkHtml = 'Like what you see? Visit the ' +\n",
              "            '<a target=\"_blank\" href=https://colab.research.google.com/notebooks/data_table.ipynb>data table notebook</a>'\n",
              "            + ' to learn more about interactive tables.';\n",
              "          element.innerHTML = '';\n",
              "          dataTable['output_type'] = 'display_data';\n",
              "          await google.colab.output.renderOutput(dataTable, element);\n",
              "          const docLink = document.createElement('div');\n",
              "          docLink.innerHTML = docLinkHtml;\n",
              "          element.appendChild(docLink);\n",
              "        }\n",
              "      </script>\n",
              "    </div>\n",
              "  </div>\n",
              "  "
            ]
          },
          "metadata": {},
          "execution_count": 288
        }
      ],
      "source": [
        "data.head()"
      ]
    },
    {
      "cell_type": "markdown",
      "metadata": {
        "id": "iHZLzImfSNcQ"
      },
      "source": [
        "# Data exploration"
      ]
    },
    {
      "cell_type": "code",
      "execution_count": 289,
      "metadata": {
        "colab": {
          "base_uri": "https://localhost:8080/"
        },
        "id": "ETs3DISjSNcR",
        "outputId": "9a16c359-7cfa-425d-d8d8-95eaa331215a"
      },
      "outputs": [
        {
          "output_type": "execute_result",
          "data": {
            "text/plain": [
              "array(['formerly smoked', 'never smoked', 'smokes', 'Unknown'],\n",
              "      dtype=object)"
            ]
          },
          "metadata": {},
          "execution_count": 289
        }
      ],
      "source": [
        "data.smoking_status.unique()"
      ]
    },
    {
      "cell_type": "code",
      "execution_count": 290,
      "metadata": {
        "colab": {
          "base_uri": "https://localhost:8080/"
        },
        "id": "h3xns0J_SNcR",
        "outputId": "92985406-2695-41dd-bc1d-3372a5ffd7ad"
      },
      "outputs": [
        {
          "output_type": "execute_result",
          "data": {
            "text/plain": [
              "array(['Male', 'Female', 'Other'], dtype=object)"
            ]
          },
          "metadata": {},
          "execution_count": 290
        }
      ],
      "source": [
        "data.gender.unique()"
      ]
    },
    {
      "cell_type": "code",
      "execution_count": 291,
      "metadata": {
        "colab": {
          "base_uri": "https://localhost:8080/"
        },
        "id": "9WtSVEavSNcS",
        "outputId": "73f1f7d9-2697-4974-a96d-4e04345aa801"
      },
      "outputs": [
        {
          "output_type": "execute_result",
          "data": {
            "text/plain": [
              "array(['Yes', 'No'], dtype=object)"
            ]
          },
          "metadata": {},
          "execution_count": 291
        }
      ],
      "source": [
        "data.ever_married.unique()"
      ]
    },
    {
      "cell_type": "code",
      "execution_count": 292,
      "metadata": {
        "colab": {
          "base_uri": "https://localhost:8080/"
        },
        "id": "eaqKfVNHSNcT",
        "outputId": "399f8dca-fcf0-4be5-96e5-e8feb789881d"
      },
      "outputs": [
        {
          "output_type": "execute_result",
          "data": {
            "text/plain": [
              "array(['Private', 'Self-employed', 'Govt_job', 'children', 'Never_worked'],\n",
              "      dtype=object)"
            ]
          },
          "metadata": {},
          "execution_count": 292
        }
      ],
      "source": [
        "data.work_type.unique()"
      ]
    },
    {
      "cell_type": "code",
      "execution_count": 293,
      "metadata": {
        "colab": {
          "base_uri": "https://localhost:8080/"
        },
        "id": "ou0qcfwjSNcT",
        "outputId": "444f48c9-d70a-4bdd-e65e-581bc34a5e3a"
      },
      "outputs": [
        {
          "output_type": "execute_result",
          "data": {
            "text/plain": [
              "array(['Urban', 'Rural'], dtype=object)"
            ]
          },
          "metadata": {},
          "execution_count": 293
        }
      ],
      "source": [
        "data.Residence_type.unique()"
      ]
    },
    {
      "cell_type": "code",
      "execution_count": 294,
      "metadata": {
        "colab": {
          "base_uri": "https://localhost:8080/"
        },
        "id": "yWpKI1ZpSNcU",
        "outputId": "236d6865-3c6c-4b44-ec92-26f6cbe5f985"
      },
      "outputs": [
        {
          "output_type": "execute_result",
          "data": {
            "text/plain": [
              "id                     0\n",
              "gender                 0\n",
              "age                    0\n",
              "hypertension           0\n",
              "heart_disease          0\n",
              "ever_married           0\n",
              "work_type              0\n",
              "Residence_type         0\n",
              "avg_glucose_level      0\n",
              "bmi                  201\n",
              "smoking_status         0\n",
              "stroke                 0\n",
              "dtype: int64"
            ]
          },
          "metadata": {},
          "execution_count": 294
        }
      ],
      "source": [
        "data.isnull().sum()"
      ]
    },
    {
      "cell_type": "markdown",
      "metadata": {
        "id": "L5_HgvL_SNcU"
      },
      "source": [
        "# Clean data"
      ]
    },
    {
      "cell_type": "code",
      "execution_count": 295,
      "metadata": {
        "id": "Ax5blaUOSNcU"
      },
      "outputs": [],
      "source": [
        "other_index = ((data.loc[(data.gender== 'Other')]).index)[0]\n",
        "data = data.drop(other_index)"
      ]
    },
    {
      "cell_type": "code",
      "execution_count": 296,
      "metadata": {
        "id": "EnOR-OkGSNcV"
      },
      "outputs": [],
      "source": [
        "from sklearn.preprocessing import OrdinalEncoder\n",
        "\n",
        "ordinal_encoder_1 = OrdinalEncoder()\n",
        "OE_cols = ['gender', 'ever_married', 'Residence_type']\n",
        "data[OE_cols] = ordinal_encoder_1.fit_transform(data[OE_cols])\n",
        "\n",
        "smoke_list = ['never smoked', 'Unknown', 'formerly smoked', 'smokes']\n",
        "ordinal_encoder_2 = OrdinalEncoder(categories=[smoke_list])\n",
        "data[['smoking_status']] = ordinal_encoder_2.fit_transform(data[['smoking_status']])"
      ]
    },
    {
      "cell_type": "code",
      "execution_count": 297,
      "metadata": {
        "id": "FWxeWaENSNcV"
      },
      "outputs": [],
      "source": [
        "from sklearn.preprocessing import OneHotEncoder\n",
        "\n",
        "OH_encoder = OneHotEncoder(handle_unknown='ignore', sparse=False)\n",
        "OH_cols_data = pd.DataFrame(OH_encoder.fit_transform(data[['work_type']]))\n",
        "OH_cols_data.index = data.index\n",
        "OH_cols_data.columns = OH_encoder.get_feature_names_out(['work_type'])\n",
        "num_data = data.drop(['work_type'], axis=1)\n",
        "data = pd.concat([num_data, OH_cols_data], axis=1)"
      ]
    },
    {
      "cell_type": "code",
      "execution_count": 298,
      "metadata": {
        "id": "CptgdGsNSNcV"
      },
      "outputs": [],
      "source": [
        "from sklearn.impute import SimpleImputer\n",
        "\n",
        "nan_imputer = SimpleImputer(strategy='median')\n",
        "imputed_data = pd.DataFrame(nan_imputer.fit_transform(data))\n",
        "imputed_data.columns = data.columns\n",
        "data = imputed_data"
      ]
    },
    {
      "cell_type": "code",
      "execution_count": 299,
      "metadata": {
        "id": "g47cJ6q6SNcW",
        "outputId": "64777d2e-e9c4-4284-9a3f-c7a7e64f28a2",
        "colab": {
          "base_uri": "https://localhost:8080/",
          "height": 287
        }
      },
      "outputs": [
        {
          "output_type": "execute_result",
          "data": {
            "text/plain": [
              "        id  gender   age  hypertension  heart_disease  ever_married  \\\n",
              "0   9046.0     1.0  67.0           0.0            1.0           1.0   \n",
              "1  51676.0     0.0  61.0           0.0            0.0           1.0   \n",
              "2  31112.0     1.0  80.0           0.0            1.0           1.0   \n",
              "3  60182.0     0.0  49.0           0.0            0.0           1.0   \n",
              "4   1665.0     0.0  79.0           1.0            0.0           1.0   \n",
              "\n",
              "   Residence_type  avg_glucose_level   bmi  smoking_status  stroke  \\\n",
              "0             1.0             228.69  36.6             2.0     1.0   \n",
              "1             0.0             202.21  28.1             0.0     1.0   \n",
              "2             0.0             105.92  32.5             0.0     1.0   \n",
              "3             1.0             171.23  34.4             3.0     1.0   \n",
              "4             0.0             174.12  24.0             0.0     1.0   \n",
              "\n",
              "   work_type_Govt_job  work_type_Never_worked  work_type_Private  \\\n",
              "0                 0.0                     0.0                1.0   \n",
              "1                 0.0                     0.0                0.0   \n",
              "2                 0.0                     0.0                1.0   \n",
              "3                 0.0                     0.0                1.0   \n",
              "4                 0.0                     0.0                0.0   \n",
              "\n",
              "   work_type_Self-employed  work_type_children  \n",
              "0                      0.0                 0.0  \n",
              "1                      1.0                 0.0  \n",
              "2                      0.0                 0.0  \n",
              "3                      0.0                 0.0  \n",
              "4                      1.0                 0.0  "
            ],
            "text/html": [
              "\n",
              "  <div id=\"df-fa78255b-1f8b-4145-8b8c-4af003547f97\">\n",
              "    <div class=\"colab-df-container\">\n",
              "      <div>\n",
              "<style scoped>\n",
              "    .dataframe tbody tr th:only-of-type {\n",
              "        vertical-align: middle;\n",
              "    }\n",
              "\n",
              "    .dataframe tbody tr th {\n",
              "        vertical-align: top;\n",
              "    }\n",
              "\n",
              "    .dataframe thead th {\n",
              "        text-align: right;\n",
              "    }\n",
              "</style>\n",
              "<table border=\"1\" class=\"dataframe\">\n",
              "  <thead>\n",
              "    <tr style=\"text-align: right;\">\n",
              "      <th></th>\n",
              "      <th>id</th>\n",
              "      <th>gender</th>\n",
              "      <th>age</th>\n",
              "      <th>hypertension</th>\n",
              "      <th>heart_disease</th>\n",
              "      <th>ever_married</th>\n",
              "      <th>Residence_type</th>\n",
              "      <th>avg_glucose_level</th>\n",
              "      <th>bmi</th>\n",
              "      <th>smoking_status</th>\n",
              "      <th>stroke</th>\n",
              "      <th>work_type_Govt_job</th>\n",
              "      <th>work_type_Never_worked</th>\n",
              "      <th>work_type_Private</th>\n",
              "      <th>work_type_Self-employed</th>\n",
              "      <th>work_type_children</th>\n",
              "    </tr>\n",
              "  </thead>\n",
              "  <tbody>\n",
              "    <tr>\n",
              "      <th>0</th>\n",
              "      <td>9046.0</td>\n",
              "      <td>1.0</td>\n",
              "      <td>67.0</td>\n",
              "      <td>0.0</td>\n",
              "      <td>1.0</td>\n",
              "      <td>1.0</td>\n",
              "      <td>1.0</td>\n",
              "      <td>228.69</td>\n",
              "      <td>36.6</td>\n",
              "      <td>2.0</td>\n",
              "      <td>1.0</td>\n",
              "      <td>0.0</td>\n",
              "      <td>0.0</td>\n",
              "      <td>1.0</td>\n",
              "      <td>0.0</td>\n",
              "      <td>0.0</td>\n",
              "    </tr>\n",
              "    <tr>\n",
              "      <th>1</th>\n",
              "      <td>51676.0</td>\n",
              "      <td>0.0</td>\n",
              "      <td>61.0</td>\n",
              "      <td>0.0</td>\n",
              "      <td>0.0</td>\n",
              "      <td>1.0</td>\n",
              "      <td>0.0</td>\n",
              "      <td>202.21</td>\n",
              "      <td>28.1</td>\n",
              "      <td>0.0</td>\n",
              "      <td>1.0</td>\n",
              "      <td>0.0</td>\n",
              "      <td>0.0</td>\n",
              "      <td>0.0</td>\n",
              "      <td>1.0</td>\n",
              "      <td>0.0</td>\n",
              "    </tr>\n",
              "    <tr>\n",
              "      <th>2</th>\n",
              "      <td>31112.0</td>\n",
              "      <td>1.0</td>\n",
              "      <td>80.0</td>\n",
              "      <td>0.0</td>\n",
              "      <td>1.0</td>\n",
              "      <td>1.0</td>\n",
              "      <td>0.0</td>\n",
              "      <td>105.92</td>\n",
              "      <td>32.5</td>\n",
              "      <td>0.0</td>\n",
              "      <td>1.0</td>\n",
              "      <td>0.0</td>\n",
              "      <td>0.0</td>\n",
              "      <td>1.0</td>\n",
              "      <td>0.0</td>\n",
              "      <td>0.0</td>\n",
              "    </tr>\n",
              "    <tr>\n",
              "      <th>3</th>\n",
              "      <td>60182.0</td>\n",
              "      <td>0.0</td>\n",
              "      <td>49.0</td>\n",
              "      <td>0.0</td>\n",
              "      <td>0.0</td>\n",
              "      <td>1.0</td>\n",
              "      <td>1.0</td>\n",
              "      <td>171.23</td>\n",
              "      <td>34.4</td>\n",
              "      <td>3.0</td>\n",
              "      <td>1.0</td>\n",
              "      <td>0.0</td>\n",
              "      <td>0.0</td>\n",
              "      <td>1.0</td>\n",
              "      <td>0.0</td>\n",
              "      <td>0.0</td>\n",
              "    </tr>\n",
              "    <tr>\n",
              "      <th>4</th>\n",
              "      <td>1665.0</td>\n",
              "      <td>0.0</td>\n",
              "      <td>79.0</td>\n",
              "      <td>1.0</td>\n",
              "      <td>0.0</td>\n",
              "      <td>1.0</td>\n",
              "      <td>0.0</td>\n",
              "      <td>174.12</td>\n",
              "      <td>24.0</td>\n",
              "      <td>0.0</td>\n",
              "      <td>1.0</td>\n",
              "      <td>0.0</td>\n",
              "      <td>0.0</td>\n",
              "      <td>0.0</td>\n",
              "      <td>1.0</td>\n",
              "      <td>0.0</td>\n",
              "    </tr>\n",
              "  </tbody>\n",
              "</table>\n",
              "</div>\n",
              "      <button class=\"colab-df-convert\" onclick=\"convertToInteractive('df-fa78255b-1f8b-4145-8b8c-4af003547f97')\"\n",
              "              title=\"Convert this dataframe to an interactive table.\"\n",
              "              style=\"display:none;\">\n",
              "        \n",
              "  <svg xmlns=\"http://www.w3.org/2000/svg\" height=\"24px\"viewBox=\"0 0 24 24\"\n",
              "       width=\"24px\">\n",
              "    <path d=\"M0 0h24v24H0V0z\" fill=\"none\"/>\n",
              "    <path d=\"M18.56 5.44l.94 2.06.94-2.06 2.06-.94-2.06-.94-.94-2.06-.94 2.06-2.06.94zm-11 1L8.5 8.5l.94-2.06 2.06-.94-2.06-.94L8.5 2.5l-.94 2.06-2.06.94zm10 10l.94 2.06.94-2.06 2.06-.94-2.06-.94-.94-2.06-.94 2.06-2.06.94z\"/><path d=\"M17.41 7.96l-1.37-1.37c-.4-.4-.92-.59-1.43-.59-.52 0-1.04.2-1.43.59L10.3 9.45l-7.72 7.72c-.78.78-.78 2.05 0 2.83L4 21.41c.39.39.9.59 1.41.59.51 0 1.02-.2 1.41-.59l7.78-7.78 2.81-2.81c.8-.78.8-2.07 0-2.86zM5.41 20L4 18.59l7.72-7.72 1.47 1.35L5.41 20z\"/>\n",
              "  </svg>\n",
              "      </button>\n",
              "      \n",
              "  <style>\n",
              "    .colab-df-container {\n",
              "      display:flex;\n",
              "      flex-wrap:wrap;\n",
              "      gap: 12px;\n",
              "    }\n",
              "\n",
              "    .colab-df-convert {\n",
              "      background-color: #E8F0FE;\n",
              "      border: none;\n",
              "      border-radius: 50%;\n",
              "      cursor: pointer;\n",
              "      display: none;\n",
              "      fill: #1967D2;\n",
              "      height: 32px;\n",
              "      padding: 0 0 0 0;\n",
              "      width: 32px;\n",
              "    }\n",
              "\n",
              "    .colab-df-convert:hover {\n",
              "      background-color: #E2EBFA;\n",
              "      box-shadow: 0px 1px 2px rgba(60, 64, 67, 0.3), 0px 1px 3px 1px rgba(60, 64, 67, 0.15);\n",
              "      fill: #174EA6;\n",
              "    }\n",
              "\n",
              "    [theme=dark] .colab-df-convert {\n",
              "      background-color: #3B4455;\n",
              "      fill: #D2E3FC;\n",
              "    }\n",
              "\n",
              "    [theme=dark] .colab-df-convert:hover {\n",
              "      background-color: #434B5C;\n",
              "      box-shadow: 0px 1px 3px 1px rgba(0, 0, 0, 0.15);\n",
              "      filter: drop-shadow(0px 1px 2px rgba(0, 0, 0, 0.3));\n",
              "      fill: #FFFFFF;\n",
              "    }\n",
              "  </style>\n",
              "\n",
              "      <script>\n",
              "        const buttonEl =\n",
              "          document.querySelector('#df-fa78255b-1f8b-4145-8b8c-4af003547f97 button.colab-df-convert');\n",
              "        buttonEl.style.display =\n",
              "          google.colab.kernel.accessAllowed ? 'block' : 'none';\n",
              "\n",
              "        async function convertToInteractive(key) {\n",
              "          const element = document.querySelector('#df-fa78255b-1f8b-4145-8b8c-4af003547f97');\n",
              "          const dataTable =\n",
              "            await google.colab.kernel.invokeFunction('convertToInteractive',\n",
              "                                                     [key], {});\n",
              "          if (!dataTable) return;\n",
              "\n",
              "          const docLinkHtml = 'Like what you see? Visit the ' +\n",
              "            '<a target=\"_blank\" href=https://colab.research.google.com/notebooks/data_table.ipynb>data table notebook</a>'\n",
              "            + ' to learn more about interactive tables.';\n",
              "          element.innerHTML = '';\n",
              "          dataTable['output_type'] = 'display_data';\n",
              "          await google.colab.output.renderOutput(dataTable, element);\n",
              "          const docLink = document.createElement('div');\n",
              "          docLink.innerHTML = docLinkHtml;\n",
              "          element.appendChild(docLink);\n",
              "        }\n",
              "      </script>\n",
              "    </div>\n",
              "  </div>\n",
              "  "
            ]
          },
          "metadata": {},
          "execution_count": 299
        }
      ],
      "source": [
        "data.head()"
      ]
    },
    {
      "cell_type": "markdown",
      "metadata": {
        "id": "T5YWl8DmSNcW"
      },
      "source": [
        "# Add more columns of information"
      ]
    },
    {
      "cell_type": "code",
      "execution_count": 300,
      "metadata": {
        "id": "gNLYpLmhSNcW"
      },
      "outputs": [],
      "source": [
        "def calc_overweight(bmi):\n",
        "    overweight = []\n",
        "    for b in bmi:\n",
        "        if b > 30:\n",
        "            overweight.append(1)\n",
        "        else:\n",
        "            overweight.append(0)\n",
        "    return pd.DataFrame({'overweight': overweight})\n",
        "\n",
        "data = pd.concat([data, calc_overweight(data.bmi)], axis=1)"
      ]
    },
    {
      "cell_type": "code",
      "execution_count": 301,
      "metadata": {
        "id": "PaMAjiZTSNcW"
      },
      "outputs": [],
      "source": [
        "def age_stroke(ages):\n",
        "    age_stroke_match = []\n",
        "    for age in ages:\n",
        "        if age >= 60:\n",
        "            age_stroke_match.append(1)\n",
        "        else:\n",
        "            age_stroke_match.append(0)\n",
        "    return pd.DataFrame({'age_stroke': age_stroke_match})\n",
        "\n",
        "data = pd.concat([data, age_stroke(data.age)], axis=1)"
      ]
    },
    {
      "cell_type": "markdown",
      "metadata": {
        "id": "FvRIbD61SNcW"
      },
      "source": [
        "# See correlation"
      ]
    },
    {
      "cell_type": "code",
      "execution_count": 302,
      "metadata": {
        "id": "4_asUsJSSNcW",
        "outputId": "ef846e96-8e9e-4b11-d4ff-38a51c280349",
        "colab": {
          "base_uri": "https://localhost:8080/"
        }
      },
      "outputs": [
        {
          "output_type": "execute_result",
          "data": {
            "text/plain": [
              "work_type_children        -0.083888\n",
              "work_type_Never_worked    -0.014885\n",
              "work_type_Govt_job         0.002660\n",
              "id                         0.006430\n",
              "overweight                 0.007039\n",
              "gender                     0.009081\n",
              "work_type_Private          0.011927\n",
              "Residence_type             0.015415\n",
              "smoking_status             0.030721\n",
              "bmi                        0.036075\n",
              "work_type_Self-employed    0.062150\n",
              "ever_married               0.108299\n",
              "hypertension               0.127891\n",
              "avg_glucose_level          0.131991\n",
              "heart_disease              0.134905\n",
              "age_stroke                 0.233478\n",
              "age                        0.245239\n",
              "stroke                     1.000000\n",
              "Name: stroke, dtype: float64"
            ]
          },
          "metadata": {},
          "execution_count": 302
        }
      ],
      "source": [
        "data.corr().stroke.sort_values()"
      ]
    },
    {
      "cell_type": "code",
      "execution_count": 303,
      "metadata": {
        "id": "8WHLCPbeSNcX",
        "outputId": "327f5bcd-4a63-4558-c29e-dcae47168a27",
        "colab": {
          "base_uri": "https://localhost:8080/",
          "height": 332
        }
      },
      "outputs": [
        {
          "output_type": "display_data",
          "data": {
            "text/plain": [
              "<Figure size 432x288 with 1 Axes>"
            ],
            "image/png": "[encoded data removed]"
          },
          "metadata": {}
        },
        {
          "output_type": "execute_result",
          "data": {
            "text/plain": [
              "0.0    4860\n",
              "1.0     249\n",
              "Name: stroke, dtype: int64"
            ]
          },
          "metadata": {},
          "execution_count": 303
        }
      ],
      "source": [
        "sns.countplot(x= data.stroke)\n",
        "plt.show()\n",
        "data.stroke.value_counts()"
      ]
    },
    {
      "cell_type": "code",
      "execution_count": 304,
      "metadata": {
        "id": "60GPqfRWSNcX"
      },
      "outputs": [],
      "source": [
        "# data_positive =data.loc[(data.stroke == 1)]\n",
        "# data = pd.concat([data, data_positive, data_positive, data_positive])"
      ]
    },
    {
      "cell_type": "markdown",
      "metadata": {
        "id": "X5NNuUZ-SNcX"
      },
      "source": [
        "# Split data "
      ]
    },
    {
      "cell_type": "code",
      "execution_count": 305,
      "metadata": {
        "id": "23JWaQ7uSNcX"
      },
      "outputs": [],
      "source": [
        "features = ['age', 'age_stroke', 'heart_disease', 'avg_glucose_level', 'ever_married', 'hypertension']\n",
        "X = data[features]\n",
        "y = data.stroke"
      ]
    },
    {
      "cell_type": "code",
      "execution_count": 306,
      "metadata": {
        "id": "opnNV9sHSNcX"
      },
      "outputs": [],
      "source": [
        "from sklearn.model_selection import train_test_split\n",
        "\n",
        "X_train, X_test, y_train, y_test = train_test_split(X, y, test_size=0.2, stratify=y, random_state=0)"
      ]
    },
    {
      "cell_type": "markdown",
      "metadata": {
        "id": "1WcgKI_JSNcX"
      },
      "source": [
        "# RandomForestClassifier"
      ]
    },
    {
      "cell_type": "code",
      "execution_count": 307,
      "metadata": {
        "id": "_NGb7zKpSNcX"
      },
      "outputs": [],
      "source": [
        "from sklearn.ensemble import RandomForestClassifier\n",
        "\n",
        "rfc = RandomForestClassifier(n_jobs=-1, random_state=0)\n",
        "rfc.fit(X_train, y_train)\n",
        "y_predicted_rfc = rfc.predict(X_test)"
      ]
    },
    {
      "cell_type": "code",
      "execution_count": 308,
      "metadata": {
        "id": "iIptIkFxSNcY"
      },
      "outputs": [],
      "source": [
        "from sklearn.metrics import confusion_matrix\n",
        "\n",
        "cf_rfc = confusion_matrix(y_test, y_predicted_rfc, labels=[1,0])"
      ]
    },
    {
      "cell_type": "code",
      "execution_count": 309,
      "metadata": {
        "id": "AWc7p0qGSNcY",
        "outputId": "44c63d65-ced3-4c02-f625-f37394df7d1f",
        "colab": {
          "base_uri": "https://localhost:8080/",
          "height": 290
        }
      },
      "outputs": [
        {
          "output_type": "display_data",
          "data": {
            "text/plain": [
              "<Figure size 432x288 with 2 Axes>"
            ],
            "image/png": "[encoded data removed]"
          },
          "metadata": {}
        }
      ],
      "source": [
        "import seaborn as sns\n",
        "\n",
        "ax = sns.heatmap(cf_rfc, annot=True, cmap='Blues')\n",
        "\n",
        "ax.set_xlabel('\\nPredicted Values')\n",
        "ax.set_ylabel('Actual Values ');\n",
        "\n",
        "ax.xaxis.set_ticklabels(['Positive','Negative'])\n",
        "ax.yaxis.set_ticklabels(['Positive','Negative'])\n",
        "\n",
        "plt.show()"
      ]
    },
    {
      "cell_type": "code",
      "execution_count": 310,
      "metadata": {
        "id": "6cNzKY5JSNcY",
        "colab": {
          "base_uri": "https://localhost:8080/"
        },
        "outputId": "d2623eac-49b5-4685-da5a-6b4111d80ddf"
      },
      "outputs": [
        {
          "output_type": "stream",
          "name": "stdout",
          "text": [
            "Accuracy score: 0.9412760023103189\n",
            "Precision score: 0.19851503759398498\n",
            "Recall score: 0.07038461538461538\n"
          ]
        }
      ],
      "source": [
        "from sklearn.model_selection import cross_val_score\n",
        "\n",
        "scores_accuracy = cross_val_score(rfc, X_train, y_train, cv=5, scoring=\"accuracy\")\n",
        "scores_precision = cross_val_score(rfc, X_train, y_train, cv=5, scoring=\"precision\")\n",
        "scores_recall = cross_val_score(rfc, X_train, y_train, cv=5, scoring=\"recall\")\n",
        "print(f\"Accuracy score: {scores_accuracy.mean()}\")\n",
        "print(f\"Precision score: {scores_precision.mean()}\")\n",
        "print(f\"Recall score: {scores_recall.mean()}\")"
      ]
    },
    {
      "cell_type": "code",
      "source": [
        "from sklearn.metrics import classification_report\n",
        "\n",
        "print(classification_report(y_test, y_predicted_rfc))"
      ],
      "metadata": {
        "colab": {
          "base_uri": "https://localhost:8080/"
        },
        "id": "0BmCK7pjwQNG",
        "outputId": "2664e493-3240-4d30-b915-47bf488d11ad"
      },
      "execution_count": 311,
      "outputs": [
        {
          "output_type": "stream",
          "name": "stdout",
          "text": [
            "              precision    recall  f1-score   support\n",
            "\n",
            "         0.0       0.95      0.98      0.97       972\n",
            "         1.0       0.13      0.06      0.08        50\n",
            "\n",
            "    accuracy                           0.93      1022\n",
            "   macro avg       0.54      0.52      0.52      1022\n",
            "weighted avg       0.91      0.93      0.92      1022\n",
            "\n"
          ]
        }
      ]
    },
    {
      "cell_type": "code",
      "source": [
        "from sklearn.model_selection import cross_val_predict\n",
        "y_scores = cross_val_predict(rfc, X_train, y_train, cv=5)"
      ],
      "metadata": {
        "id": "B91a2sCWvQuB"
      },
      "execution_count": 312,
      "outputs": []
    },
    {
      "cell_type": "code",
      "execution_count": 313,
      "metadata": {
        "id": "65YhdC5ISNcY"
      },
      "outputs": [],
      "source": [
        "def plot_roc_curve(fpr, tpr, label=None):\n",
        "  plt.plot(fpr, tpr, linewidth=2, label=label)\n",
        "  plt.plot([0, 1], [0, 1], 'k--')\n",
        "  plt.axis([0, 1, 0, 1])\n",
        "  plt.xlabel('False Positive Rate', fontsize=16)\n",
        "  plt.ylabel('True Positive Rate', fontsize=16)"
      ]
    },
    {
      "cell_type": "code",
      "execution_count": 314,
      "metadata": {
        "id": "uwBgL2ZrSNcY",
        "outputId": "89ffd809-09ae-4b73-a29d-040112d685d4",
        "colab": {
          "base_uri": "https://localhost:8080/",
          "height": 398
        }
      },
      "outputs": [
        {
          "output_type": "display_data",
          "data": {
            "text/plain": [
              "<Figure size 576x432 with 1 Axes>"
            ],
            "image/png": "[encoded data removed]"
          },
          "metadata": {}
        }
      ],
      "source": [
        "from sklearn.metrics import roc_curve\n",
        "\n",
        "fpr, tpr, thresholds = roc_curve(y_train, y_scores)\n",
        "\n",
        "plt.figure(figsize=(8, 6))\n",
        "plot_roc_curve(fpr, tpr)\n",
        "plt.show()"
      ]
    },
    {
      "cell_type": "code",
      "execution_count": 315,
      "metadata": {
        "id": "Oh8-v9HDSNcY"
      },
      "outputs": [],
      "source": [
        "def display_scores(scores):\n",
        "    print(\"Mean:\", scores.mean())\n",
        "    print(\"Standard deviation:\", scores.std())\n",
        "    return scores.mean(), scores.std()"
      ]
    },
    {
      "cell_type": "code",
      "execution_count": 316,
      "metadata": {
        "id": "5_8RhCbpSNcY",
        "outputId": "e086a5a5-96ba-4fa9-94ea-0601a43098db",
        "colab": {
          "base_uri": "https://localhost:8080/"
        }
      },
      "outputs": [
        {
          "output_type": "stream",
          "name": "stdout",
          "text": [
            "Mean: 0.016882799119158305\n",
            "Standard deviation: 0.12883233372511907\n"
          ]
        },
        {
          "output_type": "execute_result",
          "data": {
            "text/plain": [
              "(0.016882799119158305, 0.12883233372511907)"
            ]
          },
          "metadata": {},
          "execution_count": 316
        }
      ],
      "source": [
        "display_scores(y_scores)"
      ]
    },
    {
      "cell_type": "markdown",
      "metadata": {
        "id": "VgDfOR4lSNcY"
      },
      "source": [
        "# XGBoost"
      ]
    },
    {
      "cell_type": "code",
      "execution_count": 317,
      "metadata": {
        "id": "lQbRshlESNcZ"
      },
      "outputs": [],
      "source": [
        "from xgboost import XGBClassifier\n",
        "\n",
        "xgb = XGBClassifier()\n",
        "xgb.fit(X_train, y_train)\n",
        "y_predicted_xgb = xgb.predict(X_test)\n",
        "y_scores = cross_val_predict(xgb, X_train, y_train, cv=5)\n"
      ]
    },
    {
      "cell_type": "code",
      "source": [
        "cf_xgb = confusion_matrix(y_test, y_predicted_xgb, labels=[1,0])\n",
        "ax = sns.heatmap(cf_xgb, annot=True, cmap='Blues')\n",
        "ax.set_xlabel('\\nPredicted Values')\n",
        "ax.set_ylabel('Actual Values ');\n",
        "ax.xaxis.set_ticklabels(['Positive','Negative'])\n",
        "ax.yaxis.set_ticklabels(['Positive','Negative'])\n",
        "plt.show()"
      ],
      "metadata": {
        "colab": {
          "base_uri": "https://localhost:8080/",
          "height": 290
        },
        "id": "zOA3S0ceAwut",
        "outputId": "1c3c2dc6-0b98-460b-bdfb-ebd41dc87060"
      },
      "execution_count": 318,
      "outputs": [
        {
          "output_type": "display_data",
          "data": {
            "text/plain": [
              "<Figure size 432x288 with 2 Axes>"
            ],
            "image/png": "[encoded data removed]"
          },
          "metadata": {}
        }
      ]
    },
    {
      "cell_type": "code",
      "execution_count": 319,
      "metadata": {
        "id": "MYo9XBrySNcZ",
        "outputId": "096611ed-c4c5-4483-f867-4e27eb6dc36f",
        "colab": {
          "base_uri": "https://localhost:8080/",
          "height": 398
        }
      },
      "outputs": [
        {
          "output_type": "display_data",
          "data": {
            "text/plain": [
              "<Figure size 576x432 with 1 Axes>"
            ],
            "image/png": "[encoded data removed]"
          },
          "metadata": {}
        }
      ],
      "source": [
        "fpr, tpr, thresholds = roc_curve(y_train, y_scores)\n",
        "\n",
        "plt.figure(figsize=(8, 6))\n",
        "plot_roc_curve(fpr, tpr)\n",
        "plt.show()"
      ]
    },
    {
      "cell_type": "code",
      "execution_count": 320,
      "metadata": {
        "id": "YAYFIdxCSNcZ",
        "outputId": "ea971e05-b041-45a5-aa3d-27e86c1fdcc7",
        "colab": {
          "base_uri": "https://localhost:8080/"
        }
      },
      "outputs": [
        {
          "output_type": "stream",
          "name": "stdout",
          "text": [
            "Mean: 0.001223391240518718\n",
            "Standard deviation: 0.03495560833959752\n"
          ]
        },
        {
          "output_type": "execute_result",
          "data": {
            "text/plain": [
              "(0.001223391240518718, 0.03495560833959752)"
            ]
          },
          "metadata": {},
          "execution_count": 320
        }
      ],
      "source": [
        "display_scores(y_scores)"
      ]
    },
    {
      "cell_type": "markdown",
      "metadata": {
        "id": "7-e5PmoUSNcZ"
      },
      "source": [
        "# SVC"
      ]
    },
    {
      "cell_type": "code",
      "execution_count": 321,
      "metadata": {
        "id": "d8yTkbUnSNcZ"
      },
      "outputs": [],
      "source": [
        "from sklearn.preprocessing import StandardScaler\n",
        "\n",
        "scaler = StandardScaler()\n",
        "X_train_scaler = scaler.fit_transform(X_train)\n",
        "X_test_scaler = scaler.transform(X_test)"
      ]
    },
    {
      "cell_type": "code",
      "execution_count": 322,
      "metadata": {
        "id": "7tDzU5V6SNcZ",
        "outputId": "0272c7e6-b6c8-42df-a808-79e0f786ea42",
        "colab": {
          "base_uri": "https://localhost:8080/",
          "height": 290
        }
      },
      "outputs": [
        {
          "output_type": "display_data",
          "data": {
            "text/plain": [
              "<Figure size 432x288 with 2 Axes>"
            ],
            "image/png": "[encoded data removed]"
          },
          "metadata": {}
        }
      ],
      "source": [
        "from sklearn.svm import SVC\n",
        "\n",
        "svc = SVC(random_state=0)\n",
        "svc.fit(X_train_scaler, y_train)\n",
        "y_predicted = svc.predict(X_test_scaler)\n",
        "cf_svc = confusion_matrix(y_test, y_predicted, labels=[1,0])\n",
        "ax = sns.heatmap(cf_svc, annot=True, cmap='Blues')\n",
        "ax.set_xlabel('\\nPredicted Values')\n",
        "ax.set_ylabel('Actual Values ');\n",
        "ax.xaxis.set_ticklabels(['Positive','Negative'])\n",
        "ax.yaxis.set_ticklabels(['Positive','Negative'])\n",
        "plt.show()"
      ]
    },
    {
      "cell_type": "code",
      "execution_count": 323,
      "metadata": {
        "id": "ev1IC_NBSNcZ"
      },
      "outputs": [],
      "source": [
        "y_scores = cross_val_predict(svc, X_train_scaler, y_train, cv=5)"
      ]
    },
    {
      "cell_type": "code",
      "execution_count": 324,
      "metadata": {
        "id": "41LqCaI4SNcZ",
        "outputId": "ba0db2c0-d1c5-4edf-d358-2eb85311a130",
        "colab": {
          "base_uri": "https://localhost:8080/",
          "height": 398
        }
      },
      "outputs": [
        {
          "output_type": "display_data",
          "data": {
            "text/plain": [
              "<Figure size 576x432 with 1 Axes>"
            ],
            "image/png": "[encoded data removed]"
          },
          "metadata": {}
        }
      ],
      "source": [
        "fpr, tpr, thresholds = roc_curve(y_train, y_scores)\n",
        "\n",
        "plt.figure(figsize=(8, 6))\n",
        "plot_roc_curve(fpr, tpr)\n",
        "plt.show()"
      ]
    },
    {
      "cell_type": "code",
      "execution_count": 325,
      "metadata": {
        "id": "rDE6YZ5vSNcZ",
        "outputId": "b6d611d9-5f74-4455-ab18-f93f312260b3",
        "colab": {
          "base_uri": "https://localhost:8080/"
        }
      },
      "outputs": [
        {
          "output_type": "stream",
          "name": "stdout",
          "text": [
            "Mean: 0.00024467824810374357\n",
            "Standard deviation: 0.015640280709074517\n"
          ]
        },
        {
          "output_type": "execute_result",
          "data": {
            "text/plain": [
              "(0.00024467824810374357, 0.015640280709074517)"
            ]
          },
          "metadata": {},
          "execution_count": 325
        }
      ],
      "source": [
        "display_scores(y_scores)"
      ]
    },
    {
      "cell_type": "markdown",
      "metadata": {
        "id": "M0YhrC_ESNcZ"
      },
      "source": [
        "# Random search"
      ]
    },
    {
      "cell_type": "markdown",
      "metadata": {
        "id": "MvkS9gZjSNca"
      },
      "source": [
        "RandomForestClassifier"
      ]
    },
    {
      "cell_type": "code",
      "execution_count": 326,
      "metadata": {
        "id": "hLO9SC5LSNca",
        "outputId": "0a549e25-13b8-4210-9eff-fd71ef062b69",
        "colab": {
          "base_uri": "https://localhost:8080/"
        }
      },
      "outputs": [
        {
          "output_type": "execute_result",
          "data": {
            "text/plain": [
              "{'max_depth': 15, 'n_estimators': 550}"
            ]
          },
          "metadata": {},
          "execution_count": 326
        }
      ],
      "source": [
        "from sklearn.model_selection import RandomizedSearchCV\n",
        "\n",
        "rfc = RandomForestClassifier(n_jobs=-1, random_state=0)\n",
        "\n",
        "distributions = dict(n_estimators=[500, 550, 600], max_depth=[15, 20, 23, 30])\n",
        "\n",
        "rscv_rfc = RandomizedSearchCV(rfc, distributions, random_state=0)\n",
        "\n",
        "search_rfc = rscv_rfc.fit(X_train, y_train)\n",
        "search_rfc.best_params_"
      ]
    },
    {
      "cell_type": "code",
      "source": [
        "rfc_v2 = RandomForestClassifier(n_jobs=-1, random_state=0, n_estimators=550, max_depth=23)\n",
        "rfc_v2.fit(X_train, y_train)\n",
        "y_predicted_rfc_v2 = rfc_v2.predict(X_test)"
      ],
      "metadata": {
        "id": "I-X9giuyEOlX"
      },
      "execution_count": 327,
      "outputs": []
    },
    {
      "cell_type": "code",
      "source": [
        "cf_rfc_2 = confusion_matrix(y_test, y_predicted_rfc_v2, labels=[1,0])\n",
        "ax = sns.heatmap(cf_rfc_2, annot=True, cmap='Blues')\n",
        "ax.set_xlabel('\\nPredicted Values')\n",
        "ax.set_ylabel('Actual Values ');\n",
        "ax.xaxis.set_ticklabels(['Positive','Negative'])\n",
        "ax.yaxis.set_ticklabels(['Positive','Negative'])\n",
        "plt.show()"
      ],
      "metadata": {
        "id": "SqlYnHDXEPje",
        "outputId": "aa624ebf-1052-4bea-cbf5-e2df22afe752",
        "colab": {
          "base_uri": "https://localhost:8080/",
          "height": 290
        }
      },
      "execution_count": 328,
      "outputs": [
        {
          "output_type": "display_data",
          "data": {
            "text/plain": [
              "<Figure size 432x288 with 2 Axes>"
            ],
            "image/png": "[encoded data removed]"
          },
          "metadata": {}
        }
      ]
    },
    {
      "cell_type": "code",
      "execution_count": 329,
      "metadata": {
        "id": "9LbPCSOwSNca",
        "outputId": "35c402e1-b4be-4ff7-cb8d-2435389cb25b",
        "colab": {
          "base_uri": "https://localhost:8080/"
        }
      },
      "outputs": [
        {
          "output_type": "stream",
          "name": "stdout",
          "text": [
            "Mean: 0.018595546855884514\n",
            "Standard deviation: 0.1350916447935072\n"
          ]
        }
      ],
      "source": [
        "y_scores_v2_rfc = cross_val_predict(rfc_v2, X_train, y_train, cv=5)\n",
        "rfc_mean, rfc_std = display_scores(y_scores_v2_rfc)"
      ]
    },
    {
      "cell_type": "markdown",
      "metadata": {
        "id": "KGdrlWYuSNca"
      },
      "source": [
        "SVC"
      ]
    },
    {
      "cell_type": "code",
      "execution_count": 330,
      "metadata": {
        "id": "q3eJ_EEZSNca",
        "outputId": "77e8a918-e68e-4591-95fc-0fe5a74c5380",
        "colab": {
          "base_uri": "https://localhost:8080/"
        }
      },
      "outputs": [
        {
          "output_type": "execute_result",
          "data": {
            "text/plain": [
              "{'C': 0.1, 'kernel': 'rbf'}"
            ]
          },
          "metadata": {},
          "execution_count": 330
        }
      ],
      "source": [
        "svc = SVC(random_state=0)\n",
        "\n",
        "distributions = dict(C=[0.1, 0.5, 0.8, 1.0, 1.2, 1.5], kernel=['poly', 'rbf'])\n",
        "\n",
        "rscv_svc = RandomizedSearchCV(svc, distributions, random_state=0)\n",
        "\n",
        "search_svc = rscv_svc.fit(X_train_scaler, y_train)\n",
        "search_svc.best_params_"
      ]
    },
    {
      "cell_type": "code",
      "execution_count": 331,
      "metadata": {
        "id": "5m5UQyF6SNca",
        "outputId": "cfd17d30-99cc-438c-acb5-0cef353bb688",
        "colab": {
          "base_uri": "https://localhost:8080/",
          "height": 290
        }
      },
      "outputs": [
        {
          "output_type": "display_data",
          "data": {
            "text/plain": [
              "<Figure size 432x288 with 2 Axes>"
            ],
            "image/png": "[encoded data removed]"
          },
          "metadata": {}
        }
      ],
      "source": [
        "svc_v2 = SVC(random_state=0, kernel='rbf', C=0.1)\n",
        "svc_v2.fit(X_train_scaler, y_train)\n",
        "y_predicted_svc_v2 = svc_v2.predict(X_test_scaler)\n",
        "\n",
        "cf_svc_2 = confusion_matrix(y_test, y_predicted_svc_v2, labels=[1,0])\n",
        "ax = sns.heatmap(cf_svc_2, annot=True, cmap='Blues')\n",
        "ax.set_xlabel('\\nPredicted Values')\n",
        "ax.set_ylabel('Actual Values ');\n",
        "ax.xaxis.set_ticklabels(['Positive','Negative'])\n",
        "ax.yaxis.set_ticklabels(['Positive','Negative'])\n",
        "plt.show()"
      ]
    },
    {
      "cell_type": "code",
      "source": [
        "y_scores_v2_svc = cross_val_predict(svc_v2, X_train_scaler, y_train, cv=5)\n",
        "svc_mean, svc_std = display_scores(y_scores_v2_svc)"
      ],
      "metadata": {
        "id": "ZIn7DZVLGmUL",
        "outputId": "11be5519-afd0-4091-8663-c4be916832ee",
        "colab": {
          "base_uri": "https://localhost:8080/"
        }
      },
      "execution_count": 332,
      "outputs": [
        {
          "output_type": "stream",
          "name": "stdout",
          "text": [
            "Mean: 0.0\n",
            "Standard deviation: 0.0\n"
          ]
        }
      ]
    },
    {
      "cell_type": "markdown",
      "metadata": {
        "id": "v8jl1sqfSNca"
      },
      "source": [
        "XGBoost"
      ]
    },
    {
      "cell_type": "code",
      "execution_count": 333,
      "metadata": {
        "id": "zMwy203dSNca",
        "outputId": "8f6852ab-d68f-491c-d05f-ae79df448ded",
        "colab": {
          "base_uri": "https://localhost:8080/"
        }
      },
      "outputs": [
        {
          "output_type": "stream",
          "name": "stdout",
          "text": [
            "Fitting 5 folds for each of 5 candidates, totalling 25 fits\n"
          ]
        },
        {
          "output_type": "execute_result",
          "data": {
            "text/plain": [
              "{'colsample_bytree': 0.3,\n",
              " 'gamma': 0.0,\n",
              " 'learning_rate': 0.05,\n",
              " 'max_depth': 8,\n",
              " 'min_child_weight': 5}"
            ]
          },
          "metadata": {},
          "execution_count": 333
        }
      ],
      "source": [
        "xgb = XGBClassifier()\n",
        "distributions = {\n",
        " 'learning_rate' : [0.05,0.10,0.15,0.20,0.25,0.30],\n",
        " 'max_depth' : [ 3, 4, 5, 6, 8, 10, 12, 15],\n",
        " 'min_child_weight' : [ 1, 3, 5, 7 ],\n",
        " 'gamma': [ 0.0, 0.1, 0.2 , 0.3, 0.4 ],\n",
        " 'colsample_bytree' : [ 0.3, 0.4, 0.5 , 0.7 ]\n",
        "}\n",
        "rscv_xgb =RandomizedSearchCV(xgb, param_distributions=distributions, n_iter=5, scoring='roc_auc', n_jobs=-1, cv=5, verbose=3)\n",
        "search_xgb = rscv_xgb.fit(X_train, y_train)\n",
        "search_xgb.best_params_"
      ]
    },
    {
      "cell_type": "code",
      "source": [
        "xgb_v2 = XGBClassifier(min_child_weight=5, max_depth=3, learning_rate=0.15, gamma=0.2, colsample_bytree=0.4)\n",
        "xgb_v2.fit(X_train, y_train)\n",
        "y_predicted_xgb_v2 = xgb_v2.predict(X_test)\n",
        "\n",
        "cf_xgb_2 = confusion_matrix(y_test, y_predicted_xgb_v2, labels=[1,0])\n",
        "ax = sns.heatmap(cf_xgb_2, annot=True, cmap='Blues')\n",
        "ax.set_xlabel('\\nPredicted Values')\n",
        "ax.set_ylabel('Actual Values ');\n",
        "ax.xaxis.set_ticklabels(['Positive','Negative'])\n",
        "ax.yaxis.set_ticklabels(['Positive','Negative'])\n",
        "plt.show()"
      ],
      "metadata": {
        "id": "eADgIMlRF-az",
        "outputId": "a3af3ed2-408e-41f3-e136-d88596387bec",
        "colab": {
          "base_uri": "https://localhost:8080/",
          "height": 290
        }
      },
      "execution_count": 334,
      "outputs": [
        {
          "output_type": "display_data",
          "data": {
            "text/plain": [
              "<Figure size 432x288 with 2 Axes>"
            ],
            "image/png": "[encoded data removed]"
          },
          "metadata": {}
        }
      ]
    },
    {
      "cell_type": "code",
      "execution_count": 335,
      "metadata": {
        "id": "r8MsVEyySNca",
        "outputId": "48bc1db3-9775-4d65-d3dd-d173e6fb308d",
        "colab": {
          "base_uri": "https://localhost:8080/"
        }
      },
      "outputs": [
        {
          "output_type": "stream",
          "name": "stdout",
          "text": [
            "Mean: 0.0004893564962074871\n",
            "Standard deviation: 0.022115990288185297\n"
          ]
        }
      ],
      "source": [
        "y_scores_v2_xgb = cross_val_predict(xgb_v2, X_train, y_train, cv=5)\n",
        "xgb_mean, xgb_std = display_scores(y_scores_v2_xgb)"
      ]
    },
    {
      "cell_type": "markdown",
      "metadata": {
        "id": "AyHxHgXjSNcb"
      },
      "source": [
        "# Results"
      ]
    },
    {
      "cell_type": "code",
      "execution_count": 336,
      "metadata": {
        "id": "iSsnYV1WSNcb",
        "outputId": "ea403fc4-0ecb-44e2-834f-0f69e18369fd",
        "colab": {
          "base_uri": "https://localhost:8080/",
          "height": 334
        }
      },
      "outputs": [
        {
          "output_type": "display_data",
          "data": {
            "text/plain": [
              "<Figure size 288x360 with 1 Axes>"
            ],
            "image/png": "[encoded data removed]"
          },
          "metadata": {}
        }
      ],
      "source": [
        "models = ['RandomForestClassifier', 'XGBClassifier', 'SVC']\n",
        "mean = [rfc_mean, xgb_mean, svc_mean]\n",
        "std = [rfc_std, xgb_std, svc_std]\n",
        "\n",
        "plt.figure(figsize=(4,5))\n",
        "for i in range(3):\n",
        "    plt.errorbar(i, mean[i], xerr=0, yerr=std[i], fmt='o', linewidth=5)\n",
        "plt.xticks([0,1,2], models)\n",
        "plt.title('Results')\n",
        "plt.ylim(0, 0.2)\n",
        "plt.grid(b=True, which='major', linestyle='-')\n",
        "plt.minorticks_on()\n",
        "plt.grid(b=True, which='minor', alpha=0.2, linestyle='-')\n",
        "plt.show()"
      ]
    },
    {
      "cell_type": "markdown",
      "metadata": {
        "id": "3OtLAIiBIl5R"
      },
      "source": [
        "## Improving Random Forest"
      ]
    },
    {
      "cell_type": "code",
      "source": [
        "data_improved = data.drop(['id', 'work_type_children', 'work_type_Never_worked',\n",
        "                           'work_type_Govt_job', 'work_type_Self-employed',\n",
        "                           'work_type_Private', 'gender', 'Residence_type'],\n",
        "                          axis=1)\n",
        "data_improved.head()"
      ],
      "metadata": {
        "id": "mdwJKPMMJpxw",
        "outputId": "33f02458-db21-4c85-8540-a5461443319a",
        "colab": {
          "base_uri": "https://localhost:8080/",
          "height": 206
        }
      },
      "execution_count": 655,
      "outputs": [
        {
          "output_type": "execute_result",
          "data": {
            "text/plain": [
              "    age  hypertension  heart_disease  ever_married  avg_glucose_level   bmi  \\\n",
              "0  67.0           0.0            1.0           1.0             228.69  36.6   \n",
              "1  61.0           0.0            0.0           1.0             202.21  28.1   \n",
              "2  80.0           0.0            1.0           1.0             105.92  32.5   \n",
              "3  49.0           0.0            0.0           1.0             171.23  34.4   \n",
              "4  79.0           1.0            0.0           1.0             174.12  24.0   \n",
              "\n",
              "   smoking_status  stroke  overweight  age_stroke  \n",
              "0             2.0     1.0           1           1  \n",
              "1             0.0     1.0           0           1  \n",
              "2             0.0     1.0           1           1  \n",
              "3             3.0     1.0           1           0  \n",
              "4             0.0     1.0           0           1  "
            ],
            "text/html": [
              "\n",
              "  <div id=\"df-f01a7424-64dc-48be-881e-c1ac2760ef03\">\n",
              "    <div class=\"colab-df-container\">\n",
              "      <div>\n",
              "<style scoped>\n",
              "    .dataframe tbody tr th:only-of-type {\n",
              "        vertical-align: middle;\n",
              "    }\n",
              "\n",
              "    .dataframe tbody tr th {\n",
              "        vertical-align: top;\n",
              "    }\n",
              "\n",
              "    .dataframe thead th {\n",
              "        text-align: right;\n",
              "    }\n",
              "</style>\n",
              "<table border=\"1\" class=\"dataframe\">\n",
              "  <thead>\n",
              "    <tr style=\"text-align: right;\">\n",
              "      <th></th>\n",
              "      <th>age</th>\n",
              "      <th>hypertension</th>\n",
              "      <th>heart_disease</th>\n",
              "      <th>ever_married</th>\n",
              "      <th>avg_glucose_level</th>\n",
              "      <th>bmi</th>\n",
              "      <th>smoking_status</th>\n",
              "      <th>stroke</th>\n",
              "      <th>overweight</th>\n",
              "      <th>age_stroke</th>\n",
              "    </tr>\n",
              "  </thead>\n",
              "  <tbody>\n",
              "    <tr>\n",
              "      <th>0</th>\n",
              "      <td>67.0</td>\n",
              "      <td>0.0</td>\n",
              "      <td>1.0</td>\n",
              "      <td>1.0</td>\n",
              "      <td>228.69</td>\n",
              "      <td>36.6</td>\n",
              "      <td>2.0</td>\n",
              "      <td>1.0</td>\n",
              "      <td>1</td>\n",
              "      <td>1</td>\n",
              "    </tr>\n",
              "    <tr>\n",
              "      <th>1</th>\n",
              "      <td>61.0</td>\n",
              "      <td>0.0</td>\n",
              "      <td>0.0</td>\n",
              "      <td>1.0</td>\n",
              "      <td>202.21</td>\n",
              "      <td>28.1</td>\n",
              "      <td>0.0</td>\n",
              "      <td>1.0</td>\n",
              "      <td>0</td>\n",
              "      <td>1</td>\n",
              "    </tr>\n",
              "    <tr>\n",
              "      <th>2</th>\n",
              "      <td>80.0</td>\n",
              "      <td>0.0</td>\n",
              "      <td>1.0</td>\n",
              "      <td>1.0</td>\n",
              "      <td>105.92</td>\n",
              "      <td>32.5</td>\n",
              "      <td>0.0</td>\n",
              "      <td>1.0</td>\n",
              "      <td>1</td>\n",
              "      <td>1</td>\n",
              "    </tr>\n",
              "    <tr>\n",
              "      <th>3</th>\n",
              "      <td>49.0</td>\n",
              "      <td>0.0</td>\n",
              "      <td>0.0</td>\n",
              "      <td>1.0</td>\n",
              "      <td>171.23</td>\n",
              "      <td>34.4</td>\n",
              "      <td>3.0</td>\n",
              "      <td>1.0</td>\n",
              "      <td>1</td>\n",
              "      <td>0</td>\n",
              "    </tr>\n",
              "    <tr>\n",
              "      <th>4</th>\n",
              "      <td>79.0</td>\n",
              "      <td>1.0</td>\n",
              "      <td>0.0</td>\n",
              "      <td>1.0</td>\n",
              "      <td>174.12</td>\n",
              "      <td>24.0</td>\n",
              "      <td>0.0</td>\n",
              "      <td>1.0</td>\n",
              "      <td>0</td>\n",
              "      <td>1</td>\n",
              "    </tr>\n",
              "  </tbody>\n",
              "</table>\n",
              "</div>\n",
              "      <button class=\"colab-df-convert\" onclick=\"convertToInteractive('df-f01a7424-64dc-48be-881e-c1ac2760ef03')\"\n",
              "              title=\"Convert this dataframe to an interactive table.\"\n",
              "              style=\"display:none;\">\n",
              "        \n",
              "  <svg xmlns=\"http://www.w3.org/2000/svg\" height=\"24px\"viewBox=\"0 0 24 24\"\n",
              "       width=\"24px\">\n",
              "    <path d=\"M0 0h24v24H0V0z\" fill=\"none\"/>\n",
              "    <path d=\"M18.56 5.44l.94 2.06.94-2.06 2.06-.94-2.06-.94-.94-2.06-.94 2.06-2.06.94zm-11 1L8.5 8.5l.94-2.06 2.06-.94-2.06-.94L8.5 2.5l-.94 2.06-2.06.94zm10 10l.94 2.06.94-2.06 2.06-.94-2.06-.94-.94-2.06-.94 2.06-2.06.94z\"/><path d=\"M17.41 7.96l-1.37-1.37c-.4-.4-.92-.59-1.43-.59-.52 0-1.04.2-1.43.59L10.3 9.45l-7.72 7.72c-.78.78-.78 2.05 0 2.83L4 21.41c.39.39.9.59 1.41.59.51 0 1.02-.2 1.41-.59l7.78-7.78 2.81-2.81c.8-.78.8-2.07 0-2.86zM5.41 20L4 18.59l7.72-7.72 1.47 1.35L5.41 20z\"/>\n",
              "  </svg>\n",
              "      </button>\n",
              "      \n",
              "  <style>\n",
              "    .colab-df-container {\n",
              "      display:flex;\n",
              "      flex-wrap:wrap;\n",
              "      gap: 12px;\n",
              "    }\n",
              "\n",
              "    .colab-df-convert {\n",
              "      background-color: #E8F0FE;\n",
              "      border: none;\n",
              "      border-radius: 50%;\n",
              "      cursor: pointer;\n",
              "      display: none;\n",
              "      fill: #1967D2;\n",
              "      height: 32px;\n",
              "      padding: 0 0 0 0;\n",
              "      width: 32px;\n",
              "    }\n",
              "\n",
              "    .colab-df-convert:hover {\n",
              "      background-color: #E2EBFA;\n",
              "      box-shadow: 0px 1px 2px rgba(60, 64, 67, 0.3), 0px 1px 3px 1px rgba(60, 64, 67, 0.15);\n",
              "      fill: #174EA6;\n",
              "    }\n",
              "\n",
              "    [theme=dark] .colab-df-convert {\n",
              "      background-color: #3B4455;\n",
              "      fill: #D2E3FC;\n",
              "    }\n",
              "\n",
              "    [theme=dark] .colab-df-convert:hover {\n",
              "      background-color: #434B5C;\n",
              "      box-shadow: 0px 1px 3px 1px rgba(0, 0, 0, 0.15);\n",
              "      filter: drop-shadow(0px 1px 2px rgba(0, 0, 0, 0.3));\n",
              "      fill: #FFFFFF;\n",
              "    }\n",
              "  </style>\n",
              "\n",
              "      <script>\n",
              "        const buttonEl =\n",
              "          document.querySelector('#df-f01a7424-64dc-48be-881e-c1ac2760ef03 button.colab-df-convert');\n",
              "        buttonEl.style.display =\n",
              "          google.colab.kernel.accessAllowed ? 'block' : 'none';\n",
              "\n",
              "        async function convertToInteractive(key) {\n",
              "          const element = document.querySelector('#df-f01a7424-64dc-48be-881e-c1ac2760ef03');\n",
              "          const dataTable =\n",
              "            await google.colab.kernel.invokeFunction('convertToInteractive',\n",
              "                                                     [key], {});\n",
              "          if (!dataTable) return;\n",
              "\n",
              "          const docLinkHtml = 'Like what you see? Visit the ' +\n",
              "            '<a target=\"_blank\" href=https://colab.research.google.com/notebooks/data_table.ipynb>data table notebook</a>'\n",
              "            + ' to learn more about interactive tables.';\n",
              "          element.innerHTML = '';\n",
              "          dataTable['output_type'] = 'display_data';\n",
              "          await google.colab.output.renderOutput(dataTable, element);\n",
              "          const docLink = document.createElement('div');\n",
              "          docLink.innerHTML = docLinkHtml;\n",
              "          element.appendChild(docLink);\n",
              "        }\n",
              "      </script>\n",
              "    </div>\n",
              "  </div>\n",
              "  "
            ]
          },
          "metadata": {},
          "execution_count": 655
        }
      ]
    },
    {
      "cell_type": "code",
      "source": [
        "data_improved.corr().stroke.sort_values()"
      ],
      "metadata": {
        "id": "25B7UIWOJN1Z",
        "outputId": "8345625b-700e-4713-f11c-9ca356d70512",
        "colab": {
          "base_uri": "https://localhost:8080/"
        }
      },
      "execution_count": 656,
      "outputs": [
        {
          "output_type": "execute_result",
          "data": {
            "text/plain": [
              "overweight           0.007039\n",
              "smoking_status       0.030721\n",
              "bmi                  0.036075\n",
              "ever_married         0.108299\n",
              "hypertension         0.127891\n",
              "avg_glucose_level    0.131991\n",
              "heart_disease        0.134905\n",
              "age_stroke           0.233478\n",
              "age                  0.245239\n",
              "stroke               1.000000\n",
              "Name: stroke, dtype: float64"
            ]
          },
          "metadata": {},
          "execution_count": 656
        }
      ]
    },
    {
      "cell_type": "code",
      "execution_count": 657,
      "metadata": {
        "id": "6IRFftu0JAsk"
      },
      "outputs": [],
      "source": [
        "def is_smoker(smoking_status):\n",
        "    smoker = []\n",
        "    for s in smoking_status:\n",
        "        if s >= 2:\n",
        "            smoker.append(1)\n",
        "        else:\n",
        "            smoker.append(0)\n",
        "    return pd.DataFrame({'smoker': smoker})\n",
        "\n",
        "data_improved = pd.concat([data_improved, is_smoker(data_improved.smoking_status)], axis=1)"
      ]
    },
    {
      "cell_type": "code",
      "execution_count": 658,
      "metadata": {
        "id": "x3x8viKaJAsk"
      },
      "outputs": [],
      "source": [
        "def is_diabetic(glucose_level):\n",
        "    diabetic = []\n",
        "    for glucose in glucose_level:\n",
        "        if glucose >= 200:\n",
        "            diabetic.append(1)\n",
        "        else:\n",
        "            diabetic.append(0)\n",
        "    return pd.DataFrame({'diabetic': diabetic})\n",
        "\n",
        "data_improved = pd.concat([data_improved, is_diabetic(data_improved.avg_glucose_level)], axis=1)"
      ]
    },
    {
      "cell_type": "code",
      "source": [
        "data_improved.head()"
      ],
      "metadata": {
        "id": "VN7xhw-308jk",
        "outputId": "4ca45ebe-6fd6-4d7f-b9f7-c1ab01fef2ca",
        "colab": {
          "base_uri": "https://localhost:8080/",
          "height": 206
        }
      },
      "execution_count": 659,
      "outputs": [
        {
          "output_type": "execute_result",
          "data": {
            "text/plain": [
              "    age  hypertension  heart_disease  ever_married  avg_glucose_level   bmi  \\\n",
              "0  67.0           0.0            1.0           1.0             228.69  36.6   \n",
              "1  61.0           0.0            0.0           1.0             202.21  28.1   \n",
              "2  80.0           0.0            1.0           1.0             105.92  32.5   \n",
              "3  49.0           0.0            0.0           1.0             171.23  34.4   \n",
              "4  79.0           1.0            0.0           1.0             174.12  24.0   \n",
              "\n",
              "   smoking_status  stroke  overweight  age_stroke  smoker  diabetic  \n",
              "0             2.0     1.0           1           1       1         1  \n",
              "1             0.0     1.0           0           1       0         1  \n",
              "2             0.0     1.0           1           1       0         0  \n",
              "3             3.0     1.0           1           0       1         0  \n",
              "4             0.0     1.0           0           1       0         0  "
            ],
            "text/html": [
              "\n",
              "  <div id=\"df-4d6eecff-bd8c-4cd1-9a35-b5a48dae61b3\">\n",
              "    <div class=\"colab-df-container\">\n",
              "      <div>\n",
              "<style scoped>\n",
              "    .dataframe tbody tr th:only-of-type {\n",
              "        vertical-align: middle;\n",
              "    }\n",
              "\n",
              "    .dataframe tbody tr th {\n",
              "        vertical-align: top;\n",
              "    }\n",
              "\n",
              "    .dataframe thead th {\n",
              "        text-align: right;\n",
              "    }\n",
              "</style>\n",
              "<table border=\"1\" class=\"dataframe\">\n",
              "  <thead>\n",
              "    <tr style=\"text-align: right;\">\n",
              "      <th></th>\n",
              "      <th>age</th>\n",
              "      <th>hypertension</th>\n",
              "      <th>heart_disease</th>\n",
              "      <th>ever_married</th>\n",
              "      <th>avg_glucose_level</th>\n",
              "      <th>bmi</th>\n",
              "      <th>smoking_status</th>\n",
              "      <th>stroke</th>\n",
              "      <th>overweight</th>\n",
              "      <th>age_stroke</th>\n",
              "      <th>smoker</th>\n",
              "      <th>diabetic</th>\n",
              "    </tr>\n",
              "  </thead>\n",
              "  <tbody>\n",
              "    <tr>\n",
              "      <th>0</th>\n",
              "      <td>67.0</td>\n",
              "      <td>0.0</td>\n",
              "      <td>1.0</td>\n",
              "      <td>1.0</td>\n",
              "      <td>228.69</td>\n",
              "      <td>36.6</td>\n",
              "      <td>2.0</td>\n",
              "      <td>1.0</td>\n",
              "      <td>1</td>\n",
              "      <td>1</td>\n",
              "      <td>1</td>\n",
              "      <td>1</td>\n",
              "    </tr>\n",
              "    <tr>\n",
              "      <th>1</th>\n",
              "      <td>61.0</td>\n",
              "      <td>0.0</td>\n",
              "      <td>0.0</td>\n",
              "      <td>1.0</td>\n",
              "      <td>202.21</td>\n",
              "      <td>28.1</td>\n",
              "      <td>0.0</td>\n",
              "      <td>1.0</td>\n",
              "      <td>0</td>\n",
              "      <td>1</td>\n",
              "      <td>0</td>\n",
              "      <td>1</td>\n",
              "    </tr>\n",
              "    <tr>\n",
              "      <th>2</th>\n",
              "      <td>80.0</td>\n",
              "      <td>0.0</td>\n",
              "      <td>1.0</td>\n",
              "      <td>1.0</td>\n",
              "      <td>105.92</td>\n",
              "      <td>32.5</td>\n",
              "      <td>0.0</td>\n",
              "      <td>1.0</td>\n",
              "      <td>1</td>\n",
              "      <td>1</td>\n",
              "      <td>0</td>\n",
              "      <td>0</td>\n",
              "    </tr>\n",
              "    <tr>\n",
              "      <th>3</th>\n",
              "      <td>49.0</td>\n",
              "      <td>0.0</td>\n",
              "      <td>0.0</td>\n",
              "      <td>1.0</td>\n",
              "      <td>171.23</td>\n",
              "      <td>34.4</td>\n",
              "      <td>3.0</td>\n",
              "      <td>1.0</td>\n",
              "      <td>1</td>\n",
              "      <td>0</td>\n",
              "      <td>1</td>\n",
              "      <td>0</td>\n",
              "    </tr>\n",
              "    <tr>\n",
              "      <th>4</th>\n",
              "      <td>79.0</td>\n",
              "      <td>1.0</td>\n",
              "      <td>0.0</td>\n",
              "      <td>1.0</td>\n",
              "      <td>174.12</td>\n",
              "      <td>24.0</td>\n",
              "      <td>0.0</td>\n",
              "      <td>1.0</td>\n",
              "      <td>0</td>\n",
              "      <td>1</td>\n",
              "      <td>0</td>\n",
              "      <td>0</td>\n",
              "    </tr>\n",
              "  </tbody>\n",
              "</table>\n",
              "</div>\n",
              "      <button class=\"colab-df-convert\" onclick=\"convertToInteractive('df-4d6eecff-bd8c-4cd1-9a35-b5a48dae61b3')\"\n",
              "              title=\"Convert this dataframe to an interactive table.\"\n",
              "              style=\"display:none;\">\n",
              "        \n",
              "  <svg xmlns=\"http://www.w3.org/2000/svg\" height=\"24px\"viewBox=\"0 0 24 24\"\n",
              "       width=\"24px\">\n",
              "    <path d=\"M0 0h24v24H0V0z\" fill=\"none\"/>\n",
              "    <path d=\"M18.56 5.44l.94 2.06.94-2.06 2.06-.94-2.06-.94-.94-2.06-.94 2.06-2.06.94zm-11 1L8.5 8.5l.94-2.06 2.06-.94-2.06-.94L8.5 2.5l-.94 2.06-2.06.94zm10 10l.94 2.06.94-2.06 2.06-.94-2.06-.94-.94-2.06-.94 2.06-2.06.94z\"/><path d=\"M17.41 7.96l-1.37-1.37c-.4-.4-.92-.59-1.43-.59-.52 0-1.04.2-1.43.59L10.3 9.45l-7.72 7.72c-.78.78-.78 2.05 0 2.83L4 21.41c.39.39.9.59 1.41.59.51 0 1.02-.2 1.41-.59l7.78-7.78 2.81-2.81c.8-.78.8-2.07 0-2.86zM5.41 20L4 18.59l7.72-7.72 1.47 1.35L5.41 20z\"/>\n",
              "  </svg>\n",
              "      </button>\n",
              "      \n",
              "  <style>\n",
              "    .colab-df-container {\n",
              "      display:flex;\n",
              "      flex-wrap:wrap;\n",
              "      gap: 12px;\n",
              "    }\n",
              "\n",
              "    .colab-df-convert {\n",
              "      background-color: #E8F0FE;\n",
              "      border: none;\n",
              "      border-radius: 50%;\n",
              "      cursor: pointer;\n",
              "      display: none;\n",
              "      fill: #1967D2;\n",
              "      height: 32px;\n",
              "      padding: 0 0 0 0;\n",
              "      width: 32px;\n",
              "    }\n",
              "\n",
              "    .colab-df-convert:hover {\n",
              "      background-color: #E2EBFA;\n",
              "      box-shadow: 0px 1px 2px rgba(60, 64, 67, 0.3), 0px 1px 3px 1px rgba(60, 64, 67, 0.15);\n",
              "      fill: #174EA6;\n",
              "    }\n",
              "\n",
              "    [theme=dark] .colab-df-convert {\n",
              "      background-color: #3B4455;\n",
              "      fill: #D2E3FC;\n",
              "    }\n",
              "\n",
              "    [theme=dark] .colab-df-convert:hover {\n",
              "      background-color: #434B5C;\n",
              "      box-shadow: 0px 1px 3px 1px rgba(0, 0, 0, 0.15);\n",
              "      filter: drop-shadow(0px 1px 2px rgba(0, 0, 0, 0.3));\n",
              "      fill: #FFFFFF;\n",
              "    }\n",
              "  </style>\n",
              "\n",
              "      <script>\n",
              "        const buttonEl =\n",
              "          document.querySelector('#df-4d6eecff-bd8c-4cd1-9a35-b5a48dae61b3 button.colab-df-convert');\n",
              "        buttonEl.style.display =\n",
              "          google.colab.kernel.accessAllowed ? 'block' : 'none';\n",
              "\n",
              "        async function convertToInteractive(key) {\n",
              "          const element = document.querySelector('#df-4d6eecff-bd8c-4cd1-9a35-b5a48dae61b3');\n",
              "          const dataTable =\n",
              "            await google.colab.kernel.invokeFunction('convertToInteractive',\n",
              "                                                     [key], {});\n",
              "          if (!dataTable) return;\n",
              "\n",
              "          const docLinkHtml = 'Like what you see? Visit the ' +\n",
              "            '<a target=\"_blank\" href=https://colab.research.google.com/notebooks/data_table.ipynb>data table notebook</a>'\n",
              "            + ' to learn more about interactive tables.';\n",
              "          element.innerHTML = '';\n",
              "          dataTable['output_type'] = 'display_data';\n",
              "          await google.colab.output.renderOutput(dataTable, element);\n",
              "          const docLink = document.createElement('div');\n",
              "          docLink.innerHTML = docLinkHtml;\n",
              "          element.appendChild(docLink);\n",
              "        }\n",
              "      </script>\n",
              "    </div>\n",
              "  </div>\n",
              "  "
            ]
          },
          "metadata": {},
          "execution_count": 659
        }
      ]
    },
    {
      "cell_type": "code",
      "execution_count": 660,
      "metadata": {
        "id": "ZuL3KnvpQwTP"
      },
      "outputs": [],
      "source": [
        "from sklearn.model_selection import train_test_split\n",
        "\n",
        "\n",
        "features = data_improved.drop(['stroke'], axis=1).columns.to_list()\n",
        "X = data_improved[features]\n",
        "y = data_improved.stroke\n",
        "X_train, X_test, y_train, y_test = train_test_split(X, y, test_size=0.2, stratify=y, random_state=0)"
      ]
    },
    {
      "cell_type": "code",
      "source": [
        "from sklearn.feature_selection import SelectKBest, chi2\n",
        "from matplotlib import pyplot\n",
        "\n",
        "fs = SelectKBest(score_func=chi2, k='all')\n",
        "fs.fit(X_train, y_train)\n",
        "X_train_fs = fs.transform(X_train)\n",
        "X_test_fs = fs.transform(X_test)\n",
        "# what are scores for the features\n",
        "for i in range(len(fs.scores_)):\n",
        "\tprint('Feature %d: %f' % (i, fs.scores_[i]))\n",
        "# plot the scores\n",
        "pyplot.bar([i for i in range(len(fs.scores_))], fs.scores_)\n",
        "pyplot.show()"
      ],
      "metadata": {
        "id": "N9mDoTjK4Pol",
        "outputId": "266d6886-f619-4965-9927-ffa5d20be06b",
        "colab": {
          "base_uri": "https://localhost:8080/",
          "height": 458
        }
      },
      "execution_count": 661,
      "outputs": [
        {
          "output_type": "stream",
          "name": "stdout",
          "text": [
            "Feature 0: 3140.807334\n",
            "Feature 1: 69.444726\n",
            "Feature 2: 76.111341\n",
            "Feature 3: 17.191130\n",
            "Feature 4: 1211.319133\n",
            "Feature 5: 8.617885\n",
            "Feature 6: 1.777126\n",
            "Feature 7: 0.002337\n",
            "Feature 8: 179.758142\n",
            "Feature 9: 7.721332\n",
            "Feature 10: 46.207857\n"
          ]
        },
        {
          "output_type": "display_data",
          "data": {
            "text/plain": [
              "<Figure size 432x288 with 1 Axes>"
            ],
            "image/png": "[encoded data removed]"
          },
          "metadata": {}
        }
      ]
    },
    {
      "cell_type": "code",
      "source": [
        "# Age * Glucose\n",
        "data_improved['age_glucose'] =  data_improved.age * data_improved.avg_glucose_level\n",
        "\n",
        "# Old Age * Heart Disease\n",
        "data_improved['old_heart'] = data_improved.age_stroke * data_improved.heart_disease\n",
        "# Old Age * Hypertension\n",
        "data_improved['old_hyper'] = data_improved.age_stroke * data_improved.hypertension\n",
        "\n",
        "# Old Age * Diabetics\n",
        "data_improved['old_diabetic'] = data_improved.age_stroke * data_improved.diabetic\n",
        "\n",
        "# Heart Disease * Hypertension\n",
        "data_improved['heart_hyper'] = data_improved.heart_disease * data_improved.hypertension\n",
        "\n",
        "# Heart Disease * Diabetics\n",
        "data_improved['heart_diabetic'] = data_improved.heart_disease * data_improved.diabetic\n",
        "\n",
        "# Hypertension * Diabetics\n",
        "data_improved['hyper_diabetic'] = data_improved.hypertension * data_improved.diabetic"
      ],
      "metadata": {
        "id": "-KzaT2Tc1gAF"
      },
      "execution_count": 662,
      "outputs": []
    },
    {
      "cell_type": "code",
      "source": [
        "data_improved = data_improved.drop(['smoking_status', 'bmi', 'overweight', 'smoker', 'ever_married'], axis=1)\n",
        "data_improved.head()"
      ],
      "metadata": {
        "id": "87XX3NKlbe-z",
        "outputId": "60c757a1-c98c-45a1-bffa-3d3065b2da31",
        "colab": {
          "base_uri": "https://localhost:8080/",
          "height": 206
        }
      },
      "execution_count": 663,
      "outputs": [
        {
          "output_type": "execute_result",
          "data": {
            "text/plain": [
              "    age  hypertension  heart_disease  avg_glucose_level  stroke  age_stroke  \\\n",
              "0  67.0           0.0            1.0             228.69     1.0           1   \n",
              "1  61.0           0.0            0.0             202.21     1.0           1   \n",
              "2  80.0           0.0            1.0             105.92     1.0           1   \n",
              "3  49.0           0.0            0.0             171.23     1.0           0   \n",
              "4  79.0           1.0            0.0             174.12     1.0           1   \n",
              "\n",
              "   diabetic  age_glucose  old_heart  old_hyper  old_diabetic  heart_hyper  \\\n",
              "0         1     15322.23        1.0        0.0             1          0.0   \n",
              "1         1     12334.81        0.0        0.0             1          0.0   \n",
              "2         0      8473.60        1.0        0.0             0          0.0   \n",
              "3         0      8390.27        0.0        0.0             0          0.0   \n",
              "4         0     13755.48        0.0        1.0             0          0.0   \n",
              "\n",
              "   heart_diabetic  hyper_diabetic  \n",
              "0             1.0             0.0  \n",
              "1             0.0             0.0  \n",
              "2             0.0             0.0  \n",
              "3             0.0             0.0  \n",
              "4             0.0             0.0  "
            ],
            "text/html": [
              "\n",
              "  <div id=\"df-8dc96b65-99f0-4893-bb60-c336896fbf12\">\n",
              "    <div class=\"colab-df-container\">\n",
              "      <div>\n",
              "<style scoped>\n",
              "    .dataframe tbody tr th:only-of-type {\n",
              "        vertical-align: middle;\n",
              "    }\n",
              "\n",
              "    .dataframe tbody tr th {\n",
              "        vertical-align: top;\n",
              "    }\n",
              "\n",
              "    .dataframe thead th {\n",
              "        text-align: right;\n",
              "    }\n",
              "</style>\n",
              "<table border=\"1\" class=\"dataframe\">\n",
              "  <thead>\n",
              "    <tr style=\"text-align: right;\">\n",
              "      <th></th>\n",
              "      <th>age</th>\n",
              "      <th>hypertension</th>\n",
              "      <th>heart_disease</th>\n",
              "      <th>avg_glucose_level</th>\n",
              "      <th>stroke</th>\n",
              "      <th>age_stroke</th>\n",
              "      <th>diabetic</th>\n",
              "      <th>age_glucose</th>\n",
              "      <th>old_heart</th>\n",
              "      <th>old_hyper</th>\n",
              "      <th>old_diabetic</th>\n",
              "      <th>heart_hyper</th>\n",
              "      <th>heart_diabetic</th>\n",
              "      <th>hyper_diabetic</th>\n",
              "    </tr>\n",
              "  </thead>\n",
              "  <tbody>\n",
              "    <tr>\n",
              "      <th>0</th>\n",
              "      <td>67.0</td>\n",
              "      <td>0.0</td>\n",
              "      <td>1.0</td>\n",
              "      <td>228.69</td>\n",
              "      <td>1.0</td>\n",
              "      <td>1</td>\n",
              "      <td>1</td>\n",
              "      <td>15322.23</td>\n",
              "      <td>1.0</td>\n",
              "      <td>0.0</td>\n",
              "      <td>1</td>\n",
              "      <td>0.0</td>\n",
              "      <td>1.0</td>\n",
              "      <td>0.0</td>\n",
              "    </tr>\n",
              "    <tr>\n",
              "      <th>1</th>\n",
              "      <td>61.0</td>\n",
              "      <td>0.0</td>\n",
              "      <td>0.0</td>\n",
              "      <td>202.21</td>\n",
              "      <td>1.0</td>\n",
              "      <td>1</td>\n",
              "      <td>1</td>\n",
              "      <td>12334.81</td>\n",
              "      <td>0.0</td>\n",
              "      <td>0.0</td>\n",
              "      <td>1</td>\n",
              "      <td>0.0</td>\n",
              "      <td>0.0</td>\n",
              "      <td>0.0</td>\n",
              "    </tr>\n",
              "    <tr>\n",
              "      <th>2</th>\n",
              "      <td>80.0</td>\n",
              "      <td>0.0</td>\n",
              "      <td>1.0</td>\n",
              "      <td>105.92</td>\n",
              "      <td>1.0</td>\n",
              "      <td>1</td>\n",
              "      <td>0</td>\n",
              "      <td>8473.60</td>\n",
              "      <td>1.0</td>\n",
              "      <td>0.0</td>\n",
              "      <td>0</td>\n",
              "      <td>0.0</td>\n",
              "      <td>0.0</td>\n",
              "      <td>0.0</td>\n",
              "    </tr>\n",
              "    <tr>\n",
              "      <th>3</th>\n",
              "      <td>49.0</td>\n",
              "      <td>0.0</td>\n",
              "      <td>0.0</td>\n",
              "      <td>171.23</td>\n",
              "      <td>1.0</td>\n",
              "      <td>0</td>\n",
              "      <td>0</td>\n",
              "      <td>8390.27</td>\n",
              "      <td>0.0</td>\n",
              "      <td>0.0</td>\n",
              "      <td>0</td>\n",
              "      <td>0.0</td>\n",
              "      <td>0.0</td>\n",
              "      <td>0.0</td>\n",
              "    </tr>\n",
              "    <tr>\n",
              "      <th>4</th>\n",
              "      <td>79.0</td>\n",
              "      <td>1.0</td>\n",
              "      <td>0.0</td>\n",
              "      <td>174.12</td>\n",
              "      <td>1.0</td>\n",
              "      <td>1</td>\n",
              "      <td>0</td>\n",
              "      <td>13755.48</td>\n",
              "      <td>0.0</td>\n",
              "      <td>1.0</td>\n",
              "      <td>0</td>\n",
              "      <td>0.0</td>\n",
              "      <td>0.0</td>\n",
              "      <td>0.0</td>\n",
              "    </tr>\n",
              "  </tbody>\n",
              "</table>\n",
              "</div>\n",
              "      <button class=\"colab-df-convert\" onclick=\"convertToInteractive('df-8dc96b65-99f0-4893-bb60-c336896fbf12')\"\n",
              "              title=\"Convert this dataframe to an interactive table.\"\n",
              "              style=\"display:none;\">\n",
              "        \n",
              "  <svg xmlns=\"http://www.w3.org/2000/svg\" height=\"24px\"viewBox=\"0 0 24 24\"\n",
              "       width=\"24px\">\n",
              "    <path d=\"M0 0h24v24H0V0z\" fill=\"none\"/>\n",
              "    <path d=\"M18.56 5.44l.94 2.06.94-2.06 2.06-.94-2.06-.94-.94-2.06-.94 2.06-2.06.94zm-11 1L8.5 8.5l.94-2.06 2.06-.94-2.06-.94L8.5 2.5l-.94 2.06-2.06.94zm10 10l.94 2.06.94-2.06 2.06-.94-2.06-.94-.94-2.06-.94 2.06-2.06.94z\"/><path d=\"M17.41 7.96l-1.37-1.37c-.4-.4-.92-.59-1.43-.59-.52 0-1.04.2-1.43.59L10.3 9.45l-7.72 7.72c-.78.78-.78 2.05 0 2.83L4 21.41c.39.39.9.59 1.41.59.51 0 1.02-.2 1.41-.59l7.78-7.78 2.81-2.81c.8-.78.8-2.07 0-2.86zM5.41 20L4 18.59l7.72-7.72 1.47 1.35L5.41 20z\"/>\n",
              "  </svg>\n",
              "      </button>\n",
              "      \n",
              "  <style>\n",
              "    .colab-df-container {\n",
              "      display:flex;\n",
              "      flex-wrap:wrap;\n",
              "      gap: 12px;\n",
              "    }\n",
              "\n",
              "    .colab-df-convert {\n",
              "      background-color: #E8F0FE;\n",
              "      border: none;\n",
              "      border-radius: 50%;\n",
              "      cursor: pointer;\n",
              "      display: none;\n",
              "      fill: #1967D2;\n",
              "      height: 32px;\n",
              "      padding: 0 0 0 0;\n",
              "      width: 32px;\n",
              "    }\n",
              "\n",
              "    .colab-df-convert:hover {\n",
              "      background-color: #E2EBFA;\n",
              "      box-shadow: 0px 1px 2px rgba(60, 64, 67, 0.3), 0px 1px 3px 1px rgba(60, 64, 67, 0.15);\n",
              "      fill: #174EA6;\n",
              "    }\n",
              "\n",
              "    [theme=dark] .colab-df-convert {\n",
              "      background-color: #3B4455;\n",
              "      fill: #D2E3FC;\n",
              "    }\n",
              "\n",
              "    [theme=dark] .colab-df-convert:hover {\n",
              "      background-color: #434B5C;\n",
              "      box-shadow: 0px 1px 3px 1px rgba(0, 0, 0, 0.15);\n",
              "      filter: drop-shadow(0px 1px 2px rgba(0, 0, 0, 0.3));\n",
              "      fill: #FFFFFF;\n",
              "    }\n",
              "  </style>\n",
              "\n",
              "      <script>\n",
              "        const buttonEl =\n",
              "          document.querySelector('#df-8dc96b65-99f0-4893-bb60-c336896fbf12 button.colab-df-convert');\n",
              "        buttonEl.style.display =\n",
              "          google.colab.kernel.accessAllowed ? 'block' : 'none';\n",
              "\n",
              "        async function convertToInteractive(key) {\n",
              "          const element = document.querySelector('#df-8dc96b65-99f0-4893-bb60-c336896fbf12');\n",
              "          const dataTable =\n",
              "            await google.colab.kernel.invokeFunction('convertToInteractive',\n",
              "                                                     [key], {});\n",
              "          if (!dataTable) return;\n",
              "\n",
              "          const docLinkHtml = 'Like what you see? Visit the ' +\n",
              "            '<a target=\"_blank\" href=https://colab.research.google.com/notebooks/data_table.ipynb>data table notebook</a>'\n",
              "            + ' to learn more about interactive tables.';\n",
              "          element.innerHTML = '';\n",
              "          dataTable['output_type'] = 'display_data';\n",
              "          await google.colab.output.renderOutput(dataTable, element);\n",
              "          const docLink = document.createElement('div');\n",
              "          docLink.innerHTML = docLinkHtml;\n",
              "          element.appendChild(docLink);\n",
              "        }\n",
              "      </script>\n",
              "    </div>\n",
              "  </div>\n",
              "  "
            ]
          },
          "metadata": {},
          "execution_count": 663
        }
      ]
    },
    {
      "cell_type": "code",
      "execution_count": 665,
      "metadata": {
        "outputId": "17beeacc-0dc7-4b4c-d59e-5c5d16acc2af",
        "colab": {
          "base_uri": "https://localhost:8080/",
          "height": 679
        },
        "id": "Qc8Til0xJAsk"
      },
      "outputs": [
        {
          "output_type": "execute_result",
          "data": {
            "text/plain": [
              "<matplotlib.axes._subplots.AxesSubplot at 0x7fbeec6e6150>"
            ]
          },
          "metadata": {},
          "execution_count": 665
        },
        {
          "output_type": "display_data",
          "data": {
            "text/plain": [
              "<Figure size 720x720 with 2 Axes>"
            ],
            "image/png": "[encoded data removed]"
          },
          "metadata": {}
        }
      ],
      "source": [
        "import numpy as np\n",
        "cm = np.corrcoef(data_improved.values.T)\n",
        "sns.set(font_scale=0.75)\n",
        "fig, ax = plt.subplots(figsize=(10, 10))\n",
        "sns.heatmap(cm, cbar=True, annot=True,yticklabels=data_improved.columns,xticklabels=data_improved.columns, linewidths=.3)"
      ]
    },
    {
      "cell_type": "code",
      "execution_count": 677,
      "metadata": {
        "id": "Z2cmEGfnJAsk"
      },
      "outputs": [],
      "source": [
        "from sklearn.ensemble import RandomForestClassifier\n",
        "\n",
        "features = data_improved.drop(['stroke'], axis=1).columns.to_list()\n",
        "X = data_improved[features]\n",
        "y = data_improved.stroke\n",
        "X_train, X_test, y_train, y_test = train_test_split(X, y, test_size=0.2, stratify=y, random_state=0)\n",
        "\n",
        "rfc = RandomForestClassifier(n_jobs=-1, random_state=0, n_estimators=550, max_depth=23)\n",
        "rfc.fit(X_train, y_train)\n",
        "y_predicted_rfc = rfc.predict(X_test)"
      ]
    },
    {
      "cell_type": "code",
      "execution_count": 678,
      "metadata": {
        "id": "CiS0ga4zJAsk"
      },
      "outputs": [],
      "source": [
        "from sklearn.metrics import confusion_matrix\n",
        "\n",
        "cf_rfc = confusion_matrix(y_test, y_predicted_rfc, labels=[1,0])"
      ]
    },
    {
      "cell_type": "code",
      "execution_count": 679,
      "metadata": {
        "outputId": "cd5d8791-f385-4ad9-fc5c-008d9fc410a0",
        "colab": {
          "base_uri": "https://localhost:8080/",
          "height": 290
        },
        "id": "xznOm_R2JAsl"
      },
      "outputs": [
        {
          "output_type": "display_data",
          "data": {
            "text/plain": [
              "<Figure size 432x288 with 2 Axes>"
            ],
            "image/png": "[encoded data removed]"
          },
          "metadata": {}
        }
      ],
      "source": [
        "import seaborn as sns\n",
        "\n",
        "ax = sns.heatmap(cf_rfc, annot=True, cmap='Blues')\n",
        "\n",
        "ax.set_xlabel('\\nPredicted Values')\n",
        "ax.set_ylabel('Actual Values ');\n",
        "\n",
        "ax.xaxis.set_ticklabels(['Positive','Negative'])\n",
        "ax.yaxis.set_ticklabels(['Positive','Negative'])\n",
        "\n",
        "plt.show()"
      ]
    },
    {
      "cell_type": "code",
      "execution_count": 680,
      "metadata": {
        "colab": {
          "base_uri": "https://localhost:8080/"
        },
        "outputId": "9ae2dc7a-6d2e-4a42-8d45-999cc2d88e3f",
        "id": "uDZD7XfiJAsl"
      },
      "outputs": [
        {
          "output_type": "stream",
          "name": "stdout",
          "text": [
            "Accuracy score: 0.9412748052538807\n",
            "Precision score: 0.2238888888888889\n",
            "Recall score: 0.06525641025641025\n"
          ]
        }
      ],
      "source": [
        "from sklearn.model_selection import cross_val_score\n",
        "\n",
        "scores_accuracy = cross_val_score(rfc, X_train, y_train, cv=5, scoring=\"accuracy\")\n",
        "scores_precision = cross_val_score(rfc, X_train, y_train, cv=5, scoring=\"precision\")\n",
        "scores_recall = cross_val_score(rfc, X_train, y_train, cv=5, scoring=\"recall\")\n",
        "print(f\"Accuracy score: {scores_accuracy.mean()}\")\n",
        "print(f\"Precision score: {scores_precision.mean()}\")\n",
        "print(f\"Recall score: {scores_recall.mean()}\")"
      ]
    },
    {
      "cell_type": "code",
      "source": [
        "from sklearn.metrics import classification_report\n",
        "\n",
        "print(classification_report(y_test, y_predicted_rfc))"
      ],
      "metadata": {
        "colab": {
          "base_uri": "https://localhost:8080/"
        },
        "outputId": "768e59af-472b-4cc9-8ed8-8b03f49c02a3",
        "id": "MtrKEkOPJAsl"
      },
      "execution_count": 681,
      "outputs": [
        {
          "output_type": "stream",
          "name": "stdout",
          "text": [
            "              precision    recall  f1-score   support\n",
            "\n",
            "         0.0       0.95      0.98      0.97       972\n",
            "         1.0       0.05      0.02      0.03        50\n",
            "\n",
            "    accuracy                           0.93      1022\n",
            "   macro avg       0.50      0.50      0.50      1022\n",
            "weighted avg       0.91      0.93      0.92      1022\n",
            "\n"
          ]
        }
      ]
    },
    {
      "cell_type": "code",
      "source": [
        "from sklearn.model_selection import cross_val_predict\n",
        "y_scores = cross_val_predict(rfc, X_train, y_train, cv=5)"
      ],
      "metadata": {
        "id": "tF7tcnwTJAsl"
      },
      "execution_count": 682,
      "outputs": []
    },
    {
      "cell_type": "code",
      "execution_count": 683,
      "metadata": {
        "id": "D_IvzWm7JAsl"
      },
      "outputs": [],
      "source": [
        "def plot_roc_curve(fpr, tpr, label=None):\n",
        "  plt.plot(fpr, tpr, linewidth=2, label=label)\n",
        "  plt.plot([0, 1], [0, 1], 'k--')\n",
        "  plt.axis([0, 1, 0, 1])\n",
        "  plt.xlabel('False Positive Rate', fontsize=16)\n",
        "  plt.ylabel('True Positive Rate', fontsize=16)"
      ]
    },
    {
      "cell_type": "code",
      "execution_count": 684,
      "metadata": {
        "outputId": "032bfe03-96d7-438a-ed9e-c181da9e8455",
        "colab": {
          "base_uri": "https://localhost:8080/",
          "height": 398
        },
        "id": "1AnH-kzaJAsl"
      },
      "outputs": [
        {
          "output_type": "display_data",
          "data": {
            "text/plain": [
              "<Figure size 576x432 with 1 Axes>"
            ],
            "image/png": "[encoded data removed]"
          },
          "metadata": {}
        }
      ],
      "source": [
        "from sklearn.metrics import roc_curve\n",
        "\n",
        "fpr, tpr, thresholds = roc_curve(y_train, y_scores)\n",
        "\n",
        "plt.figure(figsize=(8, 6))\n",
        "plot_roc_curve(fpr, tpr)\n",
        "plt.show()"
      ]
    },
    {
      "cell_type": "code",
      "execution_count": 685,
      "metadata": {
        "id": "aRggA0ObJAsl"
      },
      "outputs": [],
      "source": [
        "def display_scores(scores):\n",
        "    print(\"Mean:\", scores.mean())\n",
        "    print(\"Standard deviation:\", scores.std())\n",
        "    return scores.mean(), scores.std()"
      ]
    },
    {
      "cell_type": "code",
      "execution_count": 686,
      "metadata": {
        "outputId": "1dd452cc-1409-4414-af47-d27f84cfe5e8",
        "colab": {
          "base_uri": "https://localhost:8080/"
        },
        "id": "iGGxuK4hJAsl"
      },
      "outputs": [
        {
          "output_type": "stream",
          "name": "stdout",
          "text": [
            "Mean: 0.01639344262295082\n",
            "Standard deviation: 0.12698306053139075\n"
          ]
        },
        {
          "output_type": "execute_result",
          "data": {
            "text/plain": [
              "(0.01639344262295082, 0.12698306053139075)"
            ]
          },
          "metadata": {},
          "execution_count": 686
        }
      ],
      "source": [
        "display_scores(y_scores)"
      ]
    }
  ],
  "metadata": {
    "interpreter": {
      "hash": "9fd58ae4538fcf96ce8fe36033807b95662dd668c918ab9851d922f5679b6980"
    },
    "kernelspec": {
      "display_name": "Python 3.9.7 ('base')",
      "language": "python",
      "name": "python3"
    },
    "language_info": {
      "codemirror_mode": {
        "name": "ipython",
        "version": 3
      },
      "file_extension": ".py",
      "mimetype": "text/x-python",
      "name": "python",
      "nbconvert_exporter": "python",
      "pygments_lexer": "ipython3",
      "version": "3.9.7"
    },
    "orig_nbformat": 4,
    "colab": {
      "name": "who_notebook.ipynb",
      "provenance": [],
      "include_colab_link": true
    }
  },
  "nbformat": 4,
  "nbformat_minor": 0
}